{
  "cells": [
    {
      "cell_type": "markdown",
      "metadata": {
        "id": "XJBo-S54uB01"
      },
      "source": [
        "1.\t Изучить зависимость структуры клиентов «ПОЛ-СТАЖ ВОЖДЕНИЯ» и частоту попадания в ДТП (для каждого типа ДТП) и сформулировать выводы.\n",
        "2.\tИзучить зависимости МАРКИ АВТО и СРЕДНЕЙ Выплаты по типам ДТП и сформулировать выводы.\n",
        "3.\t Изучить влияет ли МАРКА АВТО на частоту попадания в ДТП и сформулировать выводы.\n",
        "4.\t Изучить как изменяется «Средняя выплата» между клиентами с ЧАСТИЧНЫМ и ПОЛНЫМ тарифом на страхование по МАРКАМ АВТО.\n",
        "5.  Дополнительный кейс #1: изучить взаимосвязь цены на автомобиль и средней выплаты по нему.\n",
        "6.  Дополнительный кейс #2: изучить влияние факторов пол, возраст, стаж вождения на величину страховых выплат."
      ]
    },
    {
      "cell_type": "markdown",
      "metadata": {
        "id": "i6UMEXky0duh"
      },
      "source": [
        "Импорт библиотек и их настройка"
      ]
    },
    {
      "cell_type": "code",
      "execution_count": null,
      "metadata": {
        "id": "Kg-pzSkdrV-L"
      },
      "outputs": [],
      "source": [
        "import numpy as np;\n",
        "import pandas as pd;\n",
        "import matplotlib.pyplot as plt;\n",
        "import seaborn as sns;\n",
        "import scipy.stats as sps;"
      ]
    },
    {
      "cell_type": "code",
      "execution_count": null,
      "metadata": {
        "id": "eT1gUMTer6Jt"
      },
      "outputs": [],
      "source": [
        "pd.set_option('display.float_format', '{:.12g}'.format)\n",
        "np.set_printoptions(precision = 3, suppress= True)"
      ]
    },
    {
      "cell_type": "markdown",
      "metadata": {
        "id": "MfctJurE0Y3y"
      },
      "source": [
        "Вывод исходных данных"
      ]
    },
    {
      "cell_type": "code",
      "execution_count": null,
      "metadata": {
        "colab": {
          "base_uri": "https://localhost:8080/",
          "height": 434
        },
        "id": "7XZU5hKpzgjk",
        "outputId": "39a4672e-b1a0-4b4a-d93a-ef7dcb56b615"
      },
      "outputs": [
        {
          "data": {
            "text/html": [
              "<div>\n",
              "<style scoped>\n",
              "    .dataframe tbody tr th:only-of-type {\n",
              "        vertical-align: middle;\n",
              "    }\n",
              "\n",
              "    .dataframe tbody tr th {\n",
              "        vertical-align: top;\n",
              "    }\n",
              "\n",
              "    .dataframe thead th {\n",
              "        text-align: right;\n",
              "    }\n",
              "</style>\n",
              "<table border=\"1\" class=\"dataframe\">\n",
              "  <thead>\n",
              "    <tr style=\"text-align: right;\">\n",
              "      <th></th>\n",
              "      <th>Фамилия</th>\n",
              "      <th>Имя</th>\n",
              "      <th>Отчество</th>\n",
              "      <th>Пол</th>\n",
              "      <th>Возраст</th>\n",
              "      <th>Стаж вождения</th>\n",
              "      <th>Марка автомобиля</th>\n",
              "      <th>Тип страхования</th>\n",
              "      <th>Легкое ДТП</th>\n",
              "      <th>Крупное ДТП</th>\n",
              "      <th>Угон, ДТП без востановления авто</th>\n",
              "      <th>Выплата, руб.</th>\n",
              "    </tr>\n",
              "  </thead>\n",
              "  <tbody>\n",
              "    <tr>\n",
              "      <th>0</th>\n",
              "      <td>Иванов</td>\n",
              "      <td>Иван</td>\n",
              "      <td>Артемович</td>\n",
              "      <td>муж</td>\n",
              "      <td>23</td>\n",
              "      <td>4</td>\n",
              "      <td>Renault Duster</td>\n",
              "      <td>частичное</td>\n",
              "      <td>0</td>\n",
              "      <td>0</td>\n",
              "      <td>0</td>\n",
              "      <td>0</td>\n",
              "    </tr>\n",
              "    <tr>\n",
              "      <th>1</th>\n",
              "      <td>Козлова</td>\n",
              "      <td>Стася</td>\n",
              "      <td>Максимовна</td>\n",
              "      <td>жен</td>\n",
              "      <td>18</td>\n",
              "      <td>0</td>\n",
              "      <td>Lada 4x4</td>\n",
              "      <td>частичное</td>\n",
              "      <td>1</td>\n",
              "      <td>0</td>\n",
              "      <td>0</td>\n",
              "      <td>114112.7</td>\n",
              "    </tr>\n",
              "    <tr>\n",
              "      <th>2</th>\n",
              "      <td>Иванов</td>\n",
              "      <td>Владимир</td>\n",
              "      <td>Тимурович</td>\n",
              "      <td>муж</td>\n",
              "      <td>30</td>\n",
              "      <td>7</td>\n",
              "      <td>Lada 4x4</td>\n",
              "      <td>полное</td>\n",
              "      <td>0</td>\n",
              "      <td>0</td>\n",
              "      <td>0</td>\n",
              "      <td>0</td>\n",
              "    </tr>\n",
              "    <tr>\n",
              "      <th>3</th>\n",
              "      <td>Козлов</td>\n",
              "      <td>Богдан</td>\n",
              "      <td>Матвеевич</td>\n",
              "      <td>муж</td>\n",
              "      <td>32</td>\n",
              "      <td>3</td>\n",
              "      <td>Lada Granta</td>\n",
              "      <td>частичное</td>\n",
              "      <td>0</td>\n",
              "      <td>0</td>\n",
              "      <td>0</td>\n",
              "      <td>0</td>\n",
              "    </tr>\n",
              "    <tr>\n",
              "      <th>4</th>\n",
              "      <td>Смирнов</td>\n",
              "      <td>Иван</td>\n",
              "      <td>Алексеевич</td>\n",
              "      <td>муж</td>\n",
              "      <td>52</td>\n",
              "      <td>32</td>\n",
              "      <td>Lada Granta</td>\n",
              "      <td>полное</td>\n",
              "      <td>0</td>\n",
              "      <td>0</td>\n",
              "      <td>0</td>\n",
              "      <td>0</td>\n",
              "    </tr>\n",
              "    <tr>\n",
              "      <th>...</th>\n",
              "      <td>...</td>\n",
              "      <td>...</td>\n",
              "      <td>...</td>\n",
              "      <td>...</td>\n",
              "      <td>...</td>\n",
              "      <td>...</td>\n",
              "      <td>...</td>\n",
              "      <td>...</td>\n",
              "      <td>...</td>\n",
              "      <td>...</td>\n",
              "      <td>...</td>\n",
              "      <td>...</td>\n",
              "    </tr>\n",
              "    <tr>\n",
              "      <th>9846</th>\n",
              "      <td>Григорьев</td>\n",
              "      <td>Денис</td>\n",
              "      <td>Тимофеевич</td>\n",
              "      <td>муж</td>\n",
              "      <td>19</td>\n",
              "      <td>1</td>\n",
              "      <td>Lada Granta</td>\n",
              "      <td>частичное</td>\n",
              "      <td>0</td>\n",
              "      <td>0</td>\n",
              "      <td>0</td>\n",
              "      <td>0</td>\n",
              "    </tr>\n",
              "    <tr>\n",
              "      <th>9847</th>\n",
              "      <td>Кузьмин</td>\n",
              "      <td>Роман</td>\n",
              "      <td>Тимофеевич</td>\n",
              "      <td>муж</td>\n",
              "      <td>34</td>\n",
              "      <td>15</td>\n",
              "      <td>Nissan X-Trail</td>\n",
              "      <td>частичное</td>\n",
              "      <td>1</td>\n",
              "      <td>0</td>\n",
              "      <td>0</td>\n",
              "      <td>15000</td>\n",
              "    </tr>\n",
              "    <tr>\n",
              "      <th>9848</th>\n",
              "      <td>Максимова</td>\n",
              "      <td>Милана</td>\n",
              "      <td>Евгеньевна</td>\n",
              "      <td>жен</td>\n",
              "      <td>66</td>\n",
              "      <td>44</td>\n",
              "      <td>Lada Vesta</td>\n",
              "      <td>частичное</td>\n",
              "      <td>0</td>\n",
              "      <td>0</td>\n",
              "      <td>0</td>\n",
              "      <td>0</td>\n",
              "    </tr>\n",
              "    <tr>\n",
              "      <th>9849</th>\n",
              "      <td>Кузнецова</td>\n",
              "      <td>Есения</td>\n",
              "      <td>Егоровна</td>\n",
              "      <td>жен</td>\n",
              "      <td>31</td>\n",
              "      <td>7</td>\n",
              "      <td>Hyundai Solaris</td>\n",
              "      <td>частичное</td>\n",
              "      <td>0</td>\n",
              "      <td>0</td>\n",
              "      <td>0</td>\n",
              "      <td>0</td>\n",
              "    </tr>\n",
              "    <tr>\n",
              "      <th>9850</th>\n",
              "      <td>Иванова</td>\n",
              "      <td>Дарья</td>\n",
              "      <td>Артемовна</td>\n",
              "      <td>жен</td>\n",
              "      <td>41</td>\n",
              "      <td>9</td>\n",
              "      <td>Chevrolet NIVA</td>\n",
              "      <td>частичное</td>\n",
              "      <td>0</td>\n",
              "      <td>0</td>\n",
              "      <td>0</td>\n",
              "      <td>0</td>\n",
              "    </tr>\n",
              "  </tbody>\n",
              "</table>\n",
              "<p>9851 rows × 12 columns</p>\n",
              "</div>"
            ],
            "text/plain": [
              "         Фамилия       Имя  ... Угон, ДТП без востановления авто Выплата, руб.\n",
              "0         Иванов      Иван  ...                                0             0\n",
              "1        Козлова     Стася  ...                                0      114112.7\n",
              "2         Иванов  Владимир  ...                                0             0\n",
              "3        Козлов     Богдан  ...                                0             0\n",
              "4        Смирнов      Иван  ...                                0             0\n",
              "...          ...       ...  ...                              ...           ...\n",
              "9846  Григорьев      Денис  ...                                0             0\n",
              "9847    Кузьмин      Роман  ...                                0         15000\n",
              "9848   Максимова    Милана  ...                                0             0\n",
              "9849   Кузнецова    Есения  ...                                0             0\n",
              "9850     Иванова     Дарья  ...                                0             0\n",
              "\n",
              "[9851 rows x 12 columns]"
            ]
          },
          "execution_count": 3,
          "metadata": {},
          "output_type": "execute_result"
        }
      ],
      "source": [
        "df = pd.read_csv('./data.csv', sep = ';');\n",
        "df"
      ]
    },
    {
      "cell_type": "markdown",
      "metadata": {
        "id": "Hef-6n6ycF8x"
      },
      "source": [
        "***Пункт #1***"
      ]
    },
    {
      "cell_type": "markdown",
      "metadata": {
        "id": "lQJVlZpis4g8"
      },
      "source": [
        "**Таблица частот попадания граждан в ДТП в разрезе по возрасту**"
      ]
    },
    {
      "cell_type": "code",
      "execution_count": null,
      "metadata": {
        "colab": {
          "base_uri": "https://localhost:8080/",
          "height": 447
        },
        "id": "EIncclidtCfL",
        "outputId": "c9dfbdb0-d349-4afe-83ed-c38ed38d55bb"
      },
      "outputs": [
        {
          "data": {
            "text/html": [
              "<div>\n",
              "<style scoped>\n",
              "    .dataframe tbody tr th:only-of-type {\n",
              "        vertical-align: middle;\n",
              "    }\n",
              "\n",
              "    .dataframe tbody tr th {\n",
              "        vertical-align: top;\n",
              "    }\n",
              "\n",
              "    .dataframe thead th {\n",
              "        text-align: right;\n",
              "    }\n",
              "</style>\n",
              "<table border=\"1\" class=\"dataframe\">\n",
              "  <thead>\n",
              "    <tr style=\"text-align: right;\">\n",
              "      <th></th>\n",
              "      <th>Крупное ДТП</th>\n",
              "      <th>Легкое ДТП</th>\n",
              "      <th>Угон, ДТП без востановления авто</th>\n",
              "    </tr>\n",
              "    <tr>\n",
              "      <th>Возраст</th>\n",
              "      <th></th>\n",
              "      <th></th>\n",
              "      <th></th>\n",
              "    </tr>\n",
              "  </thead>\n",
              "  <tbody>\n",
              "    <tr>\n",
              "      <th>18</th>\n",
              "      <td>0.0167</td>\n",
              "      <td>0.35</td>\n",
              "      <td>0.0222</td>\n",
              "    </tr>\n",
              "    <tr>\n",
              "      <th>19</th>\n",
              "      <td>0.0325</td>\n",
              "      <td>0.325</td>\n",
              "      <td>0.00649</td>\n",
              "    </tr>\n",
              "    <tr>\n",
              "      <th>20</th>\n",
              "      <td>0.0471</td>\n",
              "      <td>0.341</td>\n",
              "      <td>0.00588</td>\n",
              "    </tr>\n",
              "    <tr>\n",
              "      <th>21</th>\n",
              "      <td>0.0125</td>\n",
              "      <td>0.344</td>\n",
              "      <td>0.0125</td>\n",
              "    </tr>\n",
              "    <tr>\n",
              "      <th>22</th>\n",
              "      <td>0.0305</td>\n",
              "      <td>0.305</td>\n",
              "      <td>0.0061</td>\n",
              "    </tr>\n",
              "    <tr>\n",
              "      <th>...</th>\n",
              "      <td>...</td>\n",
              "      <td>...</td>\n",
              "      <td>...</td>\n",
              "    </tr>\n",
              "    <tr>\n",
              "      <th>85</th>\n",
              "      <td>0</td>\n",
              "      <td>0.1</td>\n",
              "      <td>0.1</td>\n",
              "    </tr>\n",
              "    <tr>\n",
              "      <th>86</th>\n",
              "      <td>0</td>\n",
              "      <td>0</td>\n",
              "      <td>0</td>\n",
              "    </tr>\n",
              "    <tr>\n",
              "      <th>87</th>\n",
              "      <td>0</td>\n",
              "      <td>0.267</td>\n",
              "      <td>0.0667</td>\n",
              "    </tr>\n",
              "    <tr>\n",
              "      <th>88</th>\n",
              "      <td>0</td>\n",
              "      <td>0</td>\n",
              "      <td>0</td>\n",
              "    </tr>\n",
              "    <tr>\n",
              "      <th>89</th>\n",
              "      <td>0</td>\n",
              "      <td>0.1</td>\n",
              "      <td>0</td>\n",
              "    </tr>\n",
              "  </tbody>\n",
              "</table>\n",
              "<p>72 rows × 3 columns</p>\n",
              "</div>"
            ],
            "text/plain": [
              "         Крупное ДТП  Легкое ДТП  Угон, ДТП без востановления авто\n",
              "Возраст                                                           \n",
              "18            0.0167        0.35                            0.0222\n",
              "19            0.0325       0.325                           0.00649\n",
              "20            0.0471       0.341                           0.00588\n",
              "21            0.0125       0.344                            0.0125\n",
              "22            0.0305       0.305                            0.0061\n",
              "...              ...         ...                               ...\n",
              "85                 0         0.1                               0.1\n",
              "86                 0           0                                 0\n",
              "87                 0       0.267                            0.0667\n",
              "88                 0           0                                 0\n",
              "89                 0         0.1                                 0\n",
              "\n",
              "[72 rows x 3 columns]"
            ]
          },
          "execution_count": 4,
          "metadata": {},
          "output_type": "execute_result"
        }
      ],
      "source": [
        "df_pt_agem = pd.pivot_table(df,\n",
        "                        values = ['Легкое ДТП', 'Крупное ДТП', 'Угон, ДТП без востановления авто'],\n",
        "                        columns = 'Возраст',\n",
        "                        fill_value = 0\n",
        "                       );\n",
        "pd.set_option('display.float_format', '{:.3g}'.format)\n",
        "df_pt_agem.T"
      ]
    },
    {
      "cell_type": "markdown",
      "metadata": {
        "id": "H4s7WORJjEVY"
      },
      "source": [
        "**Таблица частот попадания мужчин и женщин в ДТП в разрезе по возрасту**"
      ]
    },
    {
      "cell_type": "code",
      "execution_count": null,
      "metadata": {
        "colab": {
          "base_uri": "https://localhost:8080/",
          "height": 447
        },
        "id": "jke4reD_C3BB",
        "outputId": "05306341-26a2-4d5a-c153-28f430cc347e"
      },
      "outputs": [
        {
          "data": {
            "text/html": [
              "<div>\n",
              "<style scoped>\n",
              "    .dataframe tbody tr th:only-of-type {\n",
              "        vertical-align: middle;\n",
              "    }\n",
              "\n",
              "    .dataframe tbody tr th {\n",
              "        vertical-align: top;\n",
              "    }\n",
              "\n",
              "    .dataframe thead th {\n",
              "        text-align: right;\n",
              "    }\n",
              "</style>\n",
              "<table border=\"1\" class=\"dataframe\">\n",
              "  <thead>\n",
              "    <tr style=\"text-align: right;\">\n",
              "      <th></th>\n",
              "      <th>Пол</th>\n",
              "      <th>жен</th>\n",
              "      <th>муж</th>\n",
              "    </tr>\n",
              "    <tr>\n",
              "      <th></th>\n",
              "      <th>Возраст</th>\n",
              "      <th></th>\n",
              "      <th></th>\n",
              "    </tr>\n",
              "  </thead>\n",
              "  <tbody>\n",
              "    <tr>\n",
              "      <th rowspan=\"5\" valign=\"top\">Крупное ДТП</th>\n",
              "      <th>18</th>\n",
              "      <td>0</td>\n",
              "      <td>0.0254</td>\n",
              "    </tr>\n",
              "    <tr>\n",
              "      <th>19</th>\n",
              "      <td>0</td>\n",
              "      <td>0.0532</td>\n",
              "    </tr>\n",
              "    <tr>\n",
              "      <th>20</th>\n",
              "      <td>0.0435</td>\n",
              "      <td>0.0495</td>\n",
              "    </tr>\n",
              "    <tr>\n",
              "      <th>21</th>\n",
              "      <td>0.0152</td>\n",
              "      <td>0.0106</td>\n",
              "    </tr>\n",
              "    <tr>\n",
              "      <th>22</th>\n",
              "      <td>0.0156</td>\n",
              "      <td>0.04</td>\n",
              "    </tr>\n",
              "    <tr>\n",
              "      <th>...</th>\n",
              "      <th>...</th>\n",
              "      <td>...</td>\n",
              "      <td>...</td>\n",
              "    </tr>\n",
              "    <tr>\n",
              "      <th rowspan=\"5\" valign=\"top\">Угон, ДТП без востановления авто</th>\n",
              "      <th>85</th>\n",
              "      <td>0.333</td>\n",
              "      <td>0</td>\n",
              "    </tr>\n",
              "    <tr>\n",
              "      <th>86</th>\n",
              "      <td>0</td>\n",
              "      <td>0</td>\n",
              "    </tr>\n",
              "    <tr>\n",
              "      <th>87</th>\n",
              "      <td>0</td>\n",
              "      <td>0.1</td>\n",
              "    </tr>\n",
              "    <tr>\n",
              "      <th>88</th>\n",
              "      <td>0</td>\n",
              "      <td>0</td>\n",
              "    </tr>\n",
              "    <tr>\n",
              "      <th>89</th>\n",
              "      <td>0</td>\n",
              "      <td>0</td>\n",
              "    </tr>\n",
              "  </tbody>\n",
              "</table>\n",
              "<p>216 rows × 2 columns</p>\n",
              "</div>"
            ],
            "text/plain": [
              "Пол                                         жен    муж\n",
              "                                 Возраст              \n",
              "Крупное ДТП                      18           0 0.0254\n",
              "                                 19           0 0.0532\n",
              "                                 20      0.0435 0.0495\n",
              "                                 21      0.0152 0.0106\n",
              "                                 22      0.0156   0.04\n",
              "...                                         ...    ...\n",
              "Угон, ДТП без востановления авто 85       0.333      0\n",
              "                                 86           0      0\n",
              "                                 87           0    0.1\n",
              "                                 88           0      0\n",
              "                                 89           0      0\n",
              "\n",
              "[216 rows x 2 columns]"
            ]
          },
          "execution_count": 5,
          "metadata": {},
          "output_type": "execute_result"
        }
      ],
      "source": [
        "df_pt_age = pd.pivot_table(df,\n",
        "                        index = 'Пол',\n",
        "                        values = ['Легкое ДТП', 'Крупное ДТП', 'Угон, ДТП без востановления авто'],\n",
        "                        columns = 'Возраст',\n",
        "                        fill_value = 0\n",
        "                       );\n",
        "df_pt_age.T"
      ]
    },
    {
      "cell_type": "markdown",
      "metadata": {
        "id": "w-_pTmdiuo1O"
      },
      "source": [
        "**Таблица частот попадания граждан в ДТП в разрезе по стажу вождения**"
      ]
    },
    {
      "cell_type": "code",
      "execution_count": null,
      "metadata": {
        "colab": {
          "base_uri": "https://localhost:8080/",
          "height": 447
        },
        "id": "tPyjWY9euryH",
        "outputId": "8c604a58-b6df-414d-8ed4-efa1092cc01e"
      },
      "outputs": [
        {
          "data": {
            "text/html": [
              "<div>\n",
              "<style scoped>\n",
              "    .dataframe tbody tr th:only-of-type {\n",
              "        vertical-align: middle;\n",
              "    }\n",
              "\n",
              "    .dataframe tbody tr th {\n",
              "        vertical-align: top;\n",
              "    }\n",
              "\n",
              "    .dataframe thead th {\n",
              "        text-align: right;\n",
              "    }\n",
              "</style>\n",
              "<table border=\"1\" class=\"dataframe\">\n",
              "  <thead>\n",
              "    <tr style=\"text-align: right;\">\n",
              "      <th></th>\n",
              "      <th>Крупное ДТП</th>\n",
              "      <th>Легкое ДТП</th>\n",
              "      <th>Угон, ДТП без востановления авто</th>\n",
              "    </tr>\n",
              "    <tr>\n",
              "      <th>Стаж вождения</th>\n",
              "      <th></th>\n",
              "      <th></th>\n",
              "      <th></th>\n",
              "    </tr>\n",
              "  </thead>\n",
              "  <tbody>\n",
              "    <tr>\n",
              "      <th>0</th>\n",
              "      <td>0.0251</td>\n",
              "      <td>0.324</td>\n",
              "      <td>0.0103</td>\n",
              "    </tr>\n",
              "    <tr>\n",
              "      <th>1</th>\n",
              "      <td>0.0392</td>\n",
              "      <td>0.309</td>\n",
              "      <td>0.0049</td>\n",
              "    </tr>\n",
              "    <tr>\n",
              "      <th>2</th>\n",
              "      <td>0.0146</td>\n",
              "      <td>0.325</td>\n",
              "      <td>0.00365</td>\n",
              "    </tr>\n",
              "    <tr>\n",
              "      <th>3</th>\n",
              "      <td>0.0427</td>\n",
              "      <td>0.303</td>\n",
              "      <td>0.00948</td>\n",
              "    </tr>\n",
              "    <tr>\n",
              "      <th>4</th>\n",
              "      <td>0.0167</td>\n",
              "      <td>0.335</td>\n",
              "      <td>0.00418</td>\n",
              "    </tr>\n",
              "    <tr>\n",
              "      <th>...</th>\n",
              "      <td>...</td>\n",
              "      <td>...</td>\n",
              "      <td>...</td>\n",
              "    </tr>\n",
              "    <tr>\n",
              "      <th>66</th>\n",
              "      <td>0</td>\n",
              "      <td>0.167</td>\n",
              "      <td>0</td>\n",
              "    </tr>\n",
              "    <tr>\n",
              "      <th>67</th>\n",
              "      <td>0</td>\n",
              "      <td>0.5</td>\n",
              "      <td>0</td>\n",
              "    </tr>\n",
              "    <tr>\n",
              "      <th>68</th>\n",
              "      <td>0</td>\n",
              "      <td>0.25</td>\n",
              "      <td>0</td>\n",
              "    </tr>\n",
              "    <tr>\n",
              "      <th>69</th>\n",
              "      <td>0</td>\n",
              "      <td>0</td>\n",
              "      <td>0</td>\n",
              "    </tr>\n",
              "    <tr>\n",
              "      <th>70</th>\n",
              "      <td>0</td>\n",
              "      <td>0</td>\n",
              "      <td>0</td>\n",
              "    </tr>\n",
              "  </tbody>\n",
              "</table>\n",
              "<p>71 rows × 3 columns</p>\n",
              "</div>"
            ],
            "text/plain": [
              "               Крупное ДТП  Легкое ДТП  Угон, ДТП без востановления авто\n",
              "Стаж вождения                                                           \n",
              "0                   0.0251       0.324                            0.0103\n",
              "1                   0.0392       0.309                            0.0049\n",
              "2                   0.0146       0.325                           0.00365\n",
              "3                   0.0427       0.303                           0.00948\n",
              "4                   0.0167       0.335                           0.00418\n",
              "...                    ...         ...                               ...\n",
              "66                       0       0.167                                 0\n",
              "67                       0         0.5                                 0\n",
              "68                       0        0.25                                 0\n",
              "69                       0           0                                 0\n",
              "70                       0           0                                 0\n",
              "\n",
              "[71 rows x 3 columns]"
            ]
          },
          "execution_count": 6,
          "metadata": {},
          "output_type": "execute_result"
        }
      ],
      "source": [
        "df_pt_stm = pd.pivot_table(df,\n",
        "                        values = ['Легкое ДТП', 'Крупное ДТП', 'Угон, ДТП без востановления авто'],\n",
        "                        columns = 'Стаж вождения',\n",
        "                        fill_value = 0\n",
        "                       );\n",
        "df_pt_stm.T"
      ]
    },
    {
      "cell_type": "markdown",
      "metadata": {
        "id": "Pkyw7gymj1cp"
      },
      "source": [
        "**Таблица частот попадания мужчин и женщин в ДТП в разрезе по стажу вождения**\n",
        "\n",
        "---\n",
        "\n"
      ]
    },
    {
      "cell_type": "code",
      "execution_count": null,
      "metadata": {
        "colab": {
          "base_uri": "https://localhost:8080/",
          "height": 447
        },
        "id": "0bQOP0q-j3ki",
        "outputId": "18675797-d1af-4b83-c0dc-c82d9b0469eb"
      },
      "outputs": [
        {
          "data": {
            "text/html": [
              "<div>\n",
              "<style scoped>\n",
              "    .dataframe tbody tr th:only-of-type {\n",
              "        vertical-align: middle;\n",
              "    }\n",
              "\n",
              "    .dataframe tbody tr th {\n",
              "        vertical-align: top;\n",
              "    }\n",
              "\n",
              "    .dataframe thead th {\n",
              "        text-align: right;\n",
              "    }\n",
              "</style>\n",
              "<table border=\"1\" class=\"dataframe\">\n",
              "  <thead>\n",
              "    <tr style=\"text-align: right;\">\n",
              "      <th></th>\n",
              "      <th>Пол</th>\n",
              "      <th>жен</th>\n",
              "      <th>муж</th>\n",
              "    </tr>\n",
              "    <tr>\n",
              "      <th></th>\n",
              "      <th>Стаж вождения</th>\n",
              "      <th></th>\n",
              "      <th></th>\n",
              "    </tr>\n",
              "  </thead>\n",
              "  <tbody>\n",
              "    <tr>\n",
              "      <th rowspan=\"5\" valign=\"top\">Крупное ДТП</th>\n",
              "      <th>0</th>\n",
              "      <td>0.00943</td>\n",
              "      <td>0.034</td>\n",
              "    </tr>\n",
              "    <tr>\n",
              "      <th>1</th>\n",
              "      <td>0.0375</td>\n",
              "      <td>0.0403</td>\n",
              "    </tr>\n",
              "    <tr>\n",
              "      <th>2</th>\n",
              "      <td>0.0227</td>\n",
              "      <td>0.00704</td>\n",
              "    </tr>\n",
              "    <tr>\n",
              "      <th>3</th>\n",
              "      <td>0.0149</td>\n",
              "      <td>0.0556</td>\n",
              "    </tr>\n",
              "    <tr>\n",
              "      <th>4</th>\n",
              "      <td>0</td>\n",
              "      <td>0.0244</td>\n",
              "    </tr>\n",
              "    <tr>\n",
              "      <th>...</th>\n",
              "      <th>...</th>\n",
              "      <td>...</td>\n",
              "      <td>...</td>\n",
              "    </tr>\n",
              "    <tr>\n",
              "      <th rowspan=\"5\" valign=\"top\">Угон, ДТП без востановления авто</th>\n",
              "      <th>66</th>\n",
              "      <td>0</td>\n",
              "      <td>0</td>\n",
              "    </tr>\n",
              "    <tr>\n",
              "      <th>67</th>\n",
              "      <td>0</td>\n",
              "      <td>0</td>\n",
              "    </tr>\n",
              "    <tr>\n",
              "      <th>68</th>\n",
              "      <td>0</td>\n",
              "      <td>0</td>\n",
              "    </tr>\n",
              "    <tr>\n",
              "      <th>69</th>\n",
              "      <td>0</td>\n",
              "      <td>0</td>\n",
              "    </tr>\n",
              "    <tr>\n",
              "      <th>70</th>\n",
              "      <td>0</td>\n",
              "      <td>0</td>\n",
              "    </tr>\n",
              "  </tbody>\n",
              "</table>\n",
              "<p>213 rows × 2 columns</p>\n",
              "</div>"
            ],
            "text/plain": [
              "Пол                                                жен     муж\n",
              "                                 Стаж вождения                \n",
              "Крупное ДТП                      0             0.00943   0.034\n",
              "                                 1              0.0375  0.0403\n",
              "                                 2              0.0227 0.00704\n",
              "                                 3              0.0149  0.0556\n",
              "                                 4                   0  0.0244\n",
              "...                                                ...     ...\n",
              "Угон, ДТП без востановления авто 66                  0       0\n",
              "                                 67                  0       0\n",
              "                                 68                  0       0\n",
              "                                 69                  0       0\n",
              "                                 70                  0       0\n",
              "\n",
              "[213 rows x 2 columns]"
            ]
          },
          "execution_count": 7,
          "metadata": {},
          "output_type": "execute_result"
        }
      ],
      "source": [
        "df_pt_st = pd.pivot_table(df,\n",
        "                        index = 'Пол',\n",
        "                        values = ['Легкое ДТП', 'Крупное ДТП', 'Угон, ДТП без востановления авто'],\n",
        "                        columns = 'Стаж вождения',\n",
        "                        fill_value = 0\n",
        "                       );\n",
        "df_pt_st = df_pt_st.T\n",
        "df_pt_st"
      ]
    },
    {
      "cell_type": "markdown",
      "metadata": {
        "id": "REKxmeEfvNfc"
      },
      "source": [
        "**Частота попадания граждан в ДТП в разрезе по возрасту**"
      ]
    },
    {
      "cell_type": "code",
      "execution_count": null,
      "metadata": {
        "colab": {
          "base_uri": "https://localhost:8080/",
          "height": 606
        },
        "id": "VJRD-t3ivTJt",
        "outputId": "7fe858fc-53a2-4f55-d9cd-97346a7b8483"
      },
      "outputs": [
        {
          "data": {
            "image/png": "[encoded data removed]",
            "text/plain": [
              "<Figure size 1296x720 with 1 Axes>"
            ]
          },
          "metadata": {
            "needs_background": "light"
          },
          "output_type": "display_data"
        }
      ],
      "source": [
        "# ax = df_pt_agem.T.plot(kind = 'bar');\n",
        "# ylab = ax.set_ylabel(\"Частота попадания в ДТП\");\n",
        "# ax.set_xscale(\"linear\");\n",
        "plt.rcParams['figure.figsize'] = (18, 10);\n",
        "sns.barplot(x = 'Возраст', y = 'Легкое ДТП', data = df);"
      ]
    },
    {
      "cell_type": "code",
      "execution_count": null,
      "metadata": {
        "colab": {
          "base_uri": "https://localhost:8080/",
          "height": 606
        },
        "id": "k7b_WMleOTIs",
        "outputId": "8355e62a-5e9c-4309-f31e-bf5a3faf8422"
      },
      "outputs": [
        {
          "data": {
            "image/png": "[encoded data removed]",
            "text/plain": [
              "<Figure size 1296x720 with 1 Axes>"
            ]
          },
          "metadata": {
            "needs_background": "light"
          },
          "output_type": "display_data"
        }
      ],
      "source": [
        "sns.barplot(x = 'Возраст', y = 'Крупное ДТП', data = df);"
      ]
    },
    {
      "cell_type": "code",
      "execution_count": null,
      "metadata": {
        "colab": {
          "base_uri": "https://localhost:8080/",
          "height": 606
        },
        "id": "j1MVtVRDOVCx",
        "outputId": "08138ec6-bb92-43ac-a058-e8af4ed5c668"
      },
      "outputs": [
        {
          "data": {
            "image/png": "[encoded data removed]",
            "text/plain": [
              "<Figure size 1296x720 with 1 Axes>"
            ]
          },
          "metadata": {
            "needs_background": "light"
          },
          "output_type": "display_data"
        }
      ],
      "source": [
        "sns.barplot(x = 'Возраст', y = 'Угон, ДТП без востановления авто', data = df);"
      ]
    },
    {
      "cell_type": "code",
      "execution_count": null,
      "metadata": {
        "colab": {
          "base_uri": "https://localhost:8080/",
          "height": 660
        },
        "id": "EkiPDmkg-XDR",
        "outputId": "e32bdf3d-d2c3-4f0a-bf81-91c2f0bc9f56"
      },
      "outputs": [
        {
          "name": "stderr",
          "output_type": "stream",
          "text": [
            "/usr/local/lib/python3.7/dist-packages/seaborn/distributions.py:2619: FutureWarning: `distplot` is a deprecated function and will be removed in a future version. Please adapt your code to use either `displot` (a figure-level function with similar flexibility) or `histplot` (an axes-level function for histograms).\n",
            "  warnings.warn(msg, FutureWarning)\n"
          ]
        },
        {
          "data": {
            "image/png": "[encoded data removed]",
            "text/plain": [
              "<Figure size 1296x720 with 1 Axes>"
            ]
          },
          "metadata": {
            "needs_background": "light"
          },
          "output_type": "display_data"
        }
      ],
      "source": [
        "df_cut = df[['Возраст', 'Легкое ДТП', 'Крупное ДТП', 'Угон, ДТП без востановления авто']];\n",
        "sns.distplot(df_cut['Возраст'], color = 'blue');"
      ]
    },
    {
      "cell_type": "markdown",
      "metadata": {
        "id": "MDeP2YDKwUMI"
      },
      "source": [
        "**Частота попадания граждан в ДТП в разрезе по стажу вождения**"
      ]
    },
    {
      "cell_type": "code",
      "execution_count": null,
      "metadata": {
        "colab": {
          "base_uri": "https://localhost:8080/",
          "height": 606
        },
        "id": "4tokh9o4wXjA",
        "outputId": "e0e8393e-77af-47b7-a808-d3c930142901"
      },
      "outputs": [
        {
          "data": {
            "image/png": "[encoded data removed]",
            "text/plain": [
              "<Figure size 1296x720 with 1 Axes>"
            ]
          },
          "metadata": {
            "needs_background": "light"
          },
          "output_type": "display_data"
        }
      ],
      "source": [
        "sns.barplot(x = 'Стаж вождения', y = 'Легкое ДТП', data = df);"
      ]
    },
    {
      "cell_type": "code",
      "execution_count": null,
      "metadata": {
        "colab": {
          "base_uri": "https://localhost:8080/",
          "height": 606
        },
        "id": "QTEvmcbHPC8r",
        "outputId": "b41d0254-7ec9-4c3e-cb0b-303e3d174988"
      },
      "outputs": [
        {
          "data": {
            "image/png": "[encoded data removed]",
            "text/plain": [
              "<Figure size 1296x720 with 1 Axes>"
            ]
          },
          "metadata": {
            "needs_background": "light"
          },
          "output_type": "display_data"
        }
      ],
      "source": [
        "sns.barplot(x = 'Стаж вождения', y = 'Крупное ДТП', data = df);"
      ]
    },
    {
      "cell_type": "code",
      "execution_count": null,
      "metadata": {
        "colab": {
          "base_uri": "https://localhost:8080/",
          "height": 606
        },
        "id": "Y5xYxTZ_PGtM",
        "outputId": "27b41cd8-3435-4a9d-987a-05af94a12a22"
      },
      "outputs": [
        {
          "data": {
            "image/png": "[encoded data removed]",
            "text/plain": [
              "<Figure size 1296x720 with 1 Axes>"
            ]
          },
          "metadata": {
            "needs_background": "light"
          },
          "output_type": "display_data"
        }
      ],
      "source": [
        "sns.barplot(x = 'Стаж вождения', y = 'Угон, ДТП без востановления авто', data = df);"
      ]
    },
    {
      "cell_type": "code",
      "execution_count": null,
      "metadata": {
        "colab": {
          "base_uri": "https://localhost:8080/",
          "height": 660
        },
        "id": "ljJ9IeKXAB81",
        "outputId": "0971f8ce-e28b-4022-fbde-69919b894180"
      },
      "outputs": [
        {
          "name": "stderr",
          "output_type": "stream",
          "text": [
            "/usr/local/lib/python3.7/dist-packages/seaborn/distributions.py:2619: FutureWarning: `distplot` is a deprecated function and will be removed in a future version. Please adapt your code to use either `displot` (a figure-level function with similar flexibility) or `histplot` (an axes-level function for histograms).\n",
            "  warnings.warn(msg, FutureWarning)\n"
          ]
        },
        {
          "data": {
            "image/png": "[encoded data removed]",
            "text/plain": [
              "<Figure size 1296x720 with 1 Axes>"
            ]
          },
          "metadata": {
            "needs_background": "light"
          },
          "output_type": "display_data"
        }
      ],
      "source": [
        "df_cut = df[['Стаж вождения', 'Легкое ДТП', 'Крупное ДТП', 'Угон, ДТП без востановления авто']];\n",
        "sns.distplot(df_cut['Стаж вождения'], color = 'blue');"
      ]
    },
    {
      "cell_type": "markdown",
      "metadata": {
        "id": "3Zo6VmKFjJcD"
      },
      "source": [
        "**Частота попадания мужчин и женщин в легкое ДТП в разрезе по возрасту**"
      ]
    },
    {
      "cell_type": "code",
      "execution_count": null,
      "metadata": {
        "colab": {
          "base_uri": "https://localhost:8080/",
          "height": 608
        },
        "id": "r2NAr66yE9cz",
        "outputId": "16d89557-8826-4533-b8fa-113b5b2e24fa"
      },
      "outputs": [
        {
          "data": {
            "image/png": "[encoded data removed]",
            "text/plain": [
              "<Figure size 1296x720 with 1 Axes>"
            ]
          },
          "metadata": {
            "needs_background": "light"
          },
          "output_type": "display_data"
        }
      ],
      "source": [
        "ax = df_pt_age['Легкое ДТП'].T.plot(kind = 'bar', color = ['orchid', 'darkturquoise']);\n",
        "ylab = ax.set_ylabel(\"Частота попадания в легкое ДТП\");\n",
        "ax.set_xscale(\"linear\");"
      ]
    },
    {
      "cell_type": "markdown",
      "metadata": {
        "id": "vDhSvanHkhyl"
      },
      "source": [
        "**Частота попадания мужчин и женщин в легкое ДТП в разрезе по стажу вождения**"
      ]
    },
    {
      "cell_type": "code",
      "execution_count": null,
      "metadata": {
        "id": "rdwQevPckn8z"
      },
      "outputs": [],
      "source": [
        "# ax = df_pt_st['Легкое ДТП'].T.plot(kind = 'bar', color = ['orchid', 'darkturquoise']);\n",
        "# ylab = ax.set_ylabel(\"Частота попадания в легкое ДТП\");\n",
        "# ax.set_xscale(\"linear\");"
      ]
    },
    {
      "cell_type": "markdown",
      "metadata": {
        "id": "vL_hjupTjT7-"
      },
      "source": [
        "**Частота попадания мужчин и женщин в крупное ДТП в разрезе по возрасту**"
      ]
    },
    {
      "cell_type": "code",
      "execution_count": null,
      "metadata": {
        "colab": {
          "base_uri": "https://localhost:8080/",
          "height": 608
        },
        "id": "m4ty2lIyitkT",
        "outputId": "239819ce-b321-4b6e-9efd-b07e542297de"
      },
      "outputs": [
        {
          "data": {
            "image/png": "[encoded data removed]",
            "text/plain": [
              "<Figure size 1296x720 with 1 Axes>"
            ]
          },
          "metadata": {
            "needs_background": "light"
          },
          "output_type": "display_data"
        }
      ],
      "source": [
        "ax = df_pt_age['Крупное ДТП'].T.plot(kind = 'bar', color = ['orchid', 'darkturquoise']);\n",
        "ylab = ax.set_ylabel(\"Частота попадания в крупное ДТП\");\n",
        "ax.set_xscale(\"linear\");"
      ]
    },
    {
      "cell_type": "markdown",
      "metadata": {
        "id": "FcP1bH4ykw_s"
      },
      "source": [
        "**Частота попадания мужчин и женщин в крупное ДТП в разрезе по стажу вождения**"
      ]
    },
    {
      "cell_type": "code",
      "execution_count": null,
      "metadata": {
        "id": "6NDJs4Efk0tv"
      },
      "outputs": [],
      "source": [
        "# ax = df_pt_st['Крупное ДТП'].T.plot(kind = 'bar', color = ['orchid', 'darkturquoise']);\n",
        "# ylab = ax.set_ylabel(\"Частота попадания в крупное ДТП\");\n",
        "# ax.set_xscale(\"linear\");"
      ]
    },
    {
      "cell_type": "markdown",
      "metadata": {
        "id": "QZ-Dw9wBjWS7"
      },
      "source": [
        "**Частота попадания мужчин и женщин в ДТП без восстановления авто/угона в разрезе по возрасту**"
      ]
    },
    {
      "cell_type": "code",
      "execution_count": null,
      "metadata": {
        "colab": {
          "base_uri": "https://localhost:8080/",
          "height": 612
        },
        "id": "D6WPhLski0Uv",
        "outputId": "6f4099d9-757e-49e1-e325-0682d8df8694"
      },
      "outputs": [
        {
          "data": {
            "image/png": "[encoded data removed]",
            "text/plain": [
              "<Figure size 1296x720 with 1 Axes>"
            ]
          },
          "metadata": {
            "needs_background": "light"
          },
          "output_type": "display_data"
        }
      ],
      "source": [
        "ax = df_pt_age['Угон, ДТП без востановления авто'].T.plot(kind = 'bar', color = ['orchid', 'darkturquoise']);\n",
        "ylab = ax.set_ylabel(\"Частота попадания в ДТП без восстановления авто/угона\");\n",
        "ax.set_xscale(\"linear\");"
      ]
    },
    {
      "cell_type": "markdown",
      "metadata": {
        "id": "FGQB6dkCk7FB"
      },
      "source": [
        "**Частота попадания мужчин и женщин в ДТП без восстановления авто/угона в разрезе по стажу вождения**"
      ]
    },
    {
      "cell_type": "code",
      "execution_count": null,
      "metadata": {
        "id": "iCOtndOdk_UQ"
      },
      "outputs": [],
      "source": [
        "# ax = df_pt_st['Угон, ДТП без востановления авто'].T.plot(kind = 'bar', color = ['orchid', 'darkturquoise']);\n",
        "# ylab = ax.set_ylabel(\"Частота попадания в ДТП без восстановления авто/угона\");\n",
        "# ax.set_xscale(\"linear\");"
      ]
    },
    {
      "cell_type": "markdown",
      "metadata": {
        "id": "aCUQbIxZcTXF"
      },
      "source": [
        "***Пункт #2***"
      ]
    },
    {
      "cell_type": "markdown",
      "metadata": {
        "id": "GfkXK4N1zAxh"
      },
      "source": [
        "**Средняя выплата по всем видам ДТП в разрезе по маркам авто**\n",
        "\n",
        "---\n",
        "\n"
      ]
    },
    {
      "cell_type": "code",
      "execution_count": null,
      "metadata": {
        "colab": {
          "base_uri": "https://localhost:8080/",
          "height": 850
        },
        "id": "4k3uW1t5zJsc",
        "outputId": "2e71a2a6-c3ed-473f-dc38-4350502b2958"
      },
      "outputs": [
        {
          "data": {
            "text/html": [
              "<div>\n",
              "<style scoped>\n",
              "    .dataframe tbody tr th:only-of-type {\n",
              "        vertical-align: middle;\n",
              "    }\n",
              "\n",
              "    .dataframe tbody tr th {\n",
              "        vertical-align: top;\n",
              "    }\n",
              "\n",
              "    .dataframe thead th {\n",
              "        text-align: right;\n",
              "    }\n",
              "</style>\n",
              "<table border=\"1\" class=\"dataframe\">\n",
              "  <thead>\n",
              "    <tr style=\"text-align: right;\">\n",
              "      <th>ДТП</th>\n",
              "      <th>Крупное ДТП</th>\n",
              "      <th>Легкое ДТП</th>\n",
              "      <th>Угон, ДТП без востановления авто</th>\n",
              "    </tr>\n",
              "    <tr>\n",
              "      <th>Марка автомобиля</th>\n",
              "      <th></th>\n",
              "      <th></th>\n",
              "      <th></th>\n",
              "    </tr>\n",
              "  </thead>\n",
              "  <tbody>\n",
              "    <tr>\n",
              "      <th>Toyota Camry</th>\n",
              "      <td>707379.466667</td>\n",
              "      <td>21780.2484127</td>\n",
              "      <td>0</td>\n",
              "    </tr>\n",
              "    <tr>\n",
              "      <th>Mazda CX-5</th>\n",
              "      <td>702828.95</td>\n",
              "      <td>16809.5450262</td>\n",
              "      <td>2268504.4</td>\n",
              "    </tr>\n",
              "    <tr>\n",
              "      <th>KIA Sportage</th>\n",
              "      <td>561618.266667</td>\n",
              "      <td>21675.408</td>\n",
              "      <td>0</td>\n",
              "    </tr>\n",
              "    <tr>\n",
              "      <th>Toyota RAV 4</th>\n",
              "      <td>519223.5</td>\n",
              "      <td>21003.7160671</td>\n",
              "      <td>1227712.6</td>\n",
              "    </tr>\n",
              "    <tr>\n",
              "      <th>VW Tiguan</th>\n",
              "      <td>512942.3875</td>\n",
              "      <td>20909.553125</td>\n",
              "      <td>0</td>\n",
              "    </tr>\n",
              "    <tr>\n",
              "      <th>Nissan Qashqai</th>\n",
              "      <td>504177.95</td>\n",
              "      <td>14706.1475</td>\n",
              "      <td>0</td>\n",
              "    </tr>\n",
              "    <tr>\n",
              "      <th>Hyundai Creta</th>\n",
              "      <td>498345.092308</td>\n",
              "      <td>23299.319</td>\n",
              "      <td>0</td>\n",
              "    </tr>\n",
              "    <tr>\n",
              "      <th>Nissan X-Trail</th>\n",
              "      <td>454249.466667</td>\n",
              "      <td>16708.616875</td>\n",
              "      <td>0</td>\n",
              "    </tr>\n",
              "    <tr>\n",
              "      <th>Skoda Octavia A7</th>\n",
              "      <td>290692.875</td>\n",
              "      <td>16413.656917</td>\n",
              "      <td>924003.35</td>\n",
              "    </tr>\n",
              "    <tr>\n",
              "      <th>Renault Kaptur</th>\n",
              "      <td>241158.422222</td>\n",
              "      <td>11210.1538813</td>\n",
              "      <td>0</td>\n",
              "    </tr>\n",
              "    <tr>\n",
              "      <th>Lada Vesta</th>\n",
              "      <td>209474.915789</td>\n",
              "      <td>10761.0968326</td>\n",
              "      <td>358557.3125</td>\n",
              "    </tr>\n",
              "    <tr>\n",
              "      <th>Chevrolet NIVA</th>\n",
              "      <td>202363.463636</td>\n",
              "      <td>10498.7474522</td>\n",
              "      <td>1605334.2</td>\n",
              "    </tr>\n",
              "    <tr>\n",
              "      <th>KIA Rio</th>\n",
              "      <td>197756.5</td>\n",
              "      <td>9313.58586207</td>\n",
              "      <td>288047.763636</td>\n",
              "    </tr>\n",
              "    <tr>\n",
              "      <th>Renault Duster</th>\n",
              "      <td>183528.316667</td>\n",
              "      <td>8870.9952514</td>\n",
              "      <td>1424544.2</td>\n",
              "    </tr>\n",
              "    <tr>\n",
              "      <th>Skoda Rapid</th>\n",
              "      <td>177065.483333</td>\n",
              "      <td>10533.4469136</td>\n",
              "      <td>0</td>\n",
              "    </tr>\n",
              "    <tr>\n",
              "      <th>Renault Sandero</th>\n",
              "      <td>161937.6</td>\n",
              "      <td>11332.4495208</td>\n",
              "      <td>505061.9</td>\n",
              "    </tr>\n",
              "    <tr>\n",
              "      <th>Lada X-Ray</th>\n",
              "      <td>159872.114286</td>\n",
              "      <td>9368.33203593</td>\n",
              "      <td>543547.033333</td>\n",
              "    </tr>\n",
              "    <tr>\n",
              "      <th>VW Polo</th>\n",
              "      <td>155119.584615</td>\n",
              "      <td>9627.77133333</td>\n",
              "      <td>0</td>\n",
              "    </tr>\n",
              "    <tr>\n",
              "      <th>Hyundai Solaris</th>\n",
              "      <td>142828.717241</td>\n",
              "      <td>9642.66852103</td>\n",
              "      <td>338445.266667</td>\n",
              "    </tr>\n",
              "    <tr>\n",
              "      <th>Lada Largus</th>\n",
              "      <td>131770.433333</td>\n",
              "      <td>4567.61259843</td>\n",
              "      <td>374756.133333</td>\n",
              "    </tr>\n",
              "    <tr>\n",
              "      <th>Renault Logan</th>\n",
              "      <td>106859.945455</td>\n",
              "      <td>4023.55234899</td>\n",
              "      <td>0</td>\n",
              "    </tr>\n",
              "    <tr>\n",
              "      <th>Lada Granta</th>\n",
              "      <td>102541.309091</td>\n",
              "      <td>4519.11401777</td>\n",
              "      <td>240988.775</td>\n",
              "    </tr>\n",
              "    <tr>\n",
              "      <th>Lada 4x4</th>\n",
              "      <td>101204.136364</td>\n",
              "      <td>9805.58515901</td>\n",
              "      <td>0</td>\n",
              "    </tr>\n",
              "    <tr>\n",
              "      <th>Lada Kalina</th>\n",
              "      <td>78131</td>\n",
              "      <td>6267.91902834</td>\n",
              "      <td>0</td>\n",
              "    </tr>\n",
              "    <tr>\n",
              "      <th>Datsun on-DO</th>\n",
              "      <td>72704.2</td>\n",
              "      <td>5259.91327014</td>\n",
              "      <td>0</td>\n",
              "    </tr>\n",
              "  </tbody>\n",
              "</table>\n",
              "</div>"
            ],
            "text/plain": [
              "ДТП                Крупное ДТП    Легкое ДТП  Угон, ДТП без востановления авто\n",
              "Марка автомобиля                                                              \n",
              "Toyota Camry     707379.466667 21780.2484127                                 0\n",
              "Mazda CX-5           702828.95 16809.5450262                         2268504.4\n",
              "KIA Sportage     561618.266667     21675.408                                 0\n",
              "Toyota RAV 4          519223.5 21003.7160671                         1227712.6\n",
              "VW Tiguan          512942.3875  20909.553125                                 0\n",
              "Nissan Qashqai       504177.95    14706.1475                                 0\n",
              "Hyundai Creta    498345.092308     23299.319                                 0\n",
              "Nissan X-Trail   454249.466667  16708.616875                                 0\n",
              "Skoda Octavia A7    290692.875  16413.656917                         924003.35\n",
              "Renault Kaptur   241158.422222 11210.1538813                                 0\n",
              "Lada Vesta       209474.915789 10761.0968326                       358557.3125\n",
              "Chevrolet NIVA   202363.463636 10498.7474522                         1605334.2\n",
              "KIA Rio               197756.5 9313.58586207                     288047.763636\n",
              "Renault Duster   183528.316667  8870.9952514                         1424544.2\n",
              "Skoda Rapid      177065.483333 10533.4469136                                 0\n",
              "Renault Sandero       161937.6 11332.4495208                          505061.9\n",
              "Lada X-Ray       159872.114286 9368.33203593                     543547.033333\n",
              "VW Polo          155119.584615 9627.77133333                                 0\n",
              "Hyundai Solaris  142828.717241 9642.66852103                     338445.266667\n",
              "Lada Largus      131770.433333 4567.61259843                     374756.133333\n",
              "Renault Logan    106859.945455 4023.55234899                                 0\n",
              "Lada Granta      102541.309091 4519.11401777                        240988.775\n",
              "Lada 4x4         101204.136364 9805.58515901                                 0\n",
              "Lada Kalina              78131 6267.91902834                                 0\n",
              "Datsun on-DO           72704.2 5259.91327014                                 0"
            ]
          },
          "execution_count": 22,
          "metadata": {},
          "output_type": "execute_result"
        }
      ],
      "source": [
        "df['ДТП'] = df[['Легкое ДТП', 'Крупное ДТП', 'Угон, ДТП без востановления авто']].idxmax(axis = 1);\n",
        "df_pt_sv = pd.pivot_table(df,\n",
        "                        index = 'Марка автомобиля',\n",
        "                        values = ['Выплата, руб.'],\n",
        "                        columns = 'ДТП',\n",
        "                        aggfunc = np.mean,\n",
        "                        fill_value = 0\n",
        "                       );\n",
        "pd.set_option('display.float_format', '{:.12g}'.format)\n",
        "df_pt_sv\n",
        "# df_pt_sv.droplevel(level=0, axis=1).sort_values('Легкое ДТП', ascending=False)\n",
        "df_pt_sv_cut = df_pt_sv.droplevel(level=0, axis=1).sort_values('Крупное ДТП', ascending=False)\n",
        "df_pt_sv_cut\n",
        "# df_pt_sv.droplevel(level=0, axis=1).sort_values('Угон, ДТП без востановления авто', ascending=False)"
      ]
    },
    {
      "cell_type": "code",
      "execution_count": null,
      "metadata": {
        "colab": {
          "base_uri": "https://localhost:8080/",
          "height": 477
        },
        "id": "AXAlVJIL4qMs",
        "outputId": "7941c70d-2c35-45ff-a87d-b18c6f163205"
      },
      "outputs": [
        {
          "data": {
            "image/png": "[encoded data removed]",
            "text/plain": [
              "<Figure size 576x432 with 1 Axes>"
            ]
          },
          "metadata": {
            "needs_background": "light"
          },
          "output_type": "display_data"
        }
      ],
      "source": [
        "plt.rcParams['figure.figsize'] = (8, 6);\n",
        "ax = df_pt_sv.droplevel(level = 0, axis = 1).plot(kind = 'bar', color = ['orchid', 'cornflowerblue', 'darkturquoise']);\n",
        "ylab = ax.set_ylabel(\"Выплата, руб.\");"
      ]
    },
    {
      "cell_type": "code",
      "execution_count": null,
      "metadata": {
        "colab": {
          "base_uri": "https://localhost:8080/",
          "height": 873
        },
        "id": "sDOyhqaikj8t",
        "outputId": "04b7f47d-1026-4c32-dcc0-f8a4037d9a53"
      },
      "outputs": [
        {
          "name": "stderr",
          "output_type": "stream",
          "text": [
            "/usr/local/lib/python3.7/dist-packages/ipykernel_launcher.py:1: DeprecationWarning: The default dtype for empty Series will be 'object' instead of 'float64' in a future version. Specify a dtype explicitly to silence this warning.\n",
            "  \"\"\"Entry point for launching an IPython kernel.\n"
          ]
        },
        {
          "data": {
            "text/html": [
              "<div>\n",
              "<style scoped>\n",
              "    .dataframe tbody tr th:only-of-type {\n",
              "        vertical-align: middle;\n",
              "    }\n",
              "\n",
              "    .dataframe tbody tr th {\n",
              "        vertical-align: top;\n",
              "    }\n",
              "\n",
              "    .dataframe thead th {\n",
              "        text-align: right;\n",
              "    }\n",
              "</style>\n",
              "<table border=\"1\" class=\"dataframe\">\n",
              "  <thead>\n",
              "    <tr style=\"text-align: right;\">\n",
              "      <th>ДТП</th>\n",
              "      <th>Марка автомобиля</th>\n",
              "      <th>mean_r</th>\n",
              "    </tr>\n",
              "  </thead>\n",
              "  <tbody>\n",
              "    <tr>\n",
              "      <th>0</th>\n",
              "      <td>Toyota Camry</td>\n",
              "      <td>243053.23836</td>\n",
              "    </tr>\n",
              "    <tr>\n",
              "      <th>1</th>\n",
              "      <td>Mazda CX-5</td>\n",
              "      <td>996047.631675</td>\n",
              "    </tr>\n",
              "    <tr>\n",
              "      <th>2</th>\n",
              "      <td>KIA Sportage</td>\n",
              "      <td>194431.224889</td>\n",
              "    </tr>\n",
              "    <tr>\n",
              "      <th>3</th>\n",
              "      <td>Toyota RAV 4</td>\n",
              "      <td>589313.272022</td>\n",
              "    </tr>\n",
              "    <tr>\n",
              "      <th>4</th>\n",
              "      <td>VW Tiguan</td>\n",
              "      <td>177950.646875</td>\n",
              "    </tr>\n",
              "    <tr>\n",
              "      <th>5</th>\n",
              "      <td>Nissan Qashqai</td>\n",
              "      <td>172961.365833</td>\n",
              "    </tr>\n",
              "    <tr>\n",
              "      <th>6</th>\n",
              "      <td>Hyundai Creta</td>\n",
              "      <td>173881.470436</td>\n",
              "    </tr>\n",
              "    <tr>\n",
              "      <th>7</th>\n",
              "      <td>Nissan X-Trail</td>\n",
              "      <td>156986.027847</td>\n",
              "    </tr>\n",
              "    <tr>\n",
              "      <th>8</th>\n",
              "      <td>Skoda Octavia A7</td>\n",
              "      <td>410369.960639</td>\n",
              "    </tr>\n",
              "    <tr>\n",
              "      <th>9</th>\n",
              "      <td>Renault Kaptur</td>\n",
              "      <td>84122.8587012</td>\n",
              "    </tr>\n",
              "    <tr>\n",
              "      <th>10</th>\n",
              "      <td>Lada Vesta</td>\n",
              "      <td>192931.108374</td>\n",
              "    </tr>\n",
              "    <tr>\n",
              "      <th>11</th>\n",
              "      <td>Chevrolet NIVA</td>\n",
              "      <td>606065.470363</td>\n",
              "    </tr>\n",
              "    <tr>\n",
              "      <th>12</th>\n",
              "      <td>KIA Rio</td>\n",
              "      <td>165039.283166</td>\n",
              "    </tr>\n",
              "    <tr>\n",
              "      <th>13</th>\n",
              "      <td>Renault Duster</td>\n",
              "      <td>538981.170639</td>\n",
              "    </tr>\n",
              "    <tr>\n",
              "      <th>14</th>\n",
              "      <td>Skoda Rapid</td>\n",
              "      <td>62532.976749</td>\n",
              "    </tr>\n",
              "    <tr>\n",
              "      <th>15</th>\n",
              "      <td>Renault Sandero</td>\n",
              "      <td>226110.64984</td>\n",
              "    </tr>\n",
              "    <tr>\n",
              "      <th>16</th>\n",
              "      <td>Lada X-Ray</td>\n",
              "      <td>237595.826552</td>\n",
              "    </tr>\n",
              "    <tr>\n",
              "      <th>17</th>\n",
              "      <td>VW Polo</td>\n",
              "      <td>54915.7853162</td>\n",
              "    </tr>\n",
              "    <tr>\n",
              "      <th>18</th>\n",
              "      <td>Hyundai Solaris</td>\n",
              "      <td>163638.884143</td>\n",
              "    </tr>\n",
              "    <tr>\n",
              "      <th>19</th>\n",
              "      <td>Lada Largus</td>\n",
              "      <td>170364.726422</td>\n",
              "    </tr>\n",
              "    <tr>\n",
              "      <th>20</th>\n",
              "      <td>Renault Logan</td>\n",
              "      <td>36961.1659345</td>\n",
              "    </tr>\n",
              "    <tr>\n",
              "      <th>21</th>\n",
              "      <td>Lada Granta</td>\n",
              "      <td>116016.39937</td>\n",
              "    </tr>\n",
              "    <tr>\n",
              "      <th>22</th>\n",
              "      <td>Lada 4x4</td>\n",
              "      <td>37003.2405075</td>\n",
              "    </tr>\n",
              "    <tr>\n",
              "      <th>23</th>\n",
              "      <td>Lada Kalina</td>\n",
              "      <td>28132.9730094</td>\n",
              "    </tr>\n",
              "    <tr>\n",
              "      <th>24</th>\n",
              "      <td>Datsun on-DO</td>\n",
              "      <td>25988.0377567</td>\n",
              "    </tr>\n",
              "  </tbody>\n",
              "</table>\n",
              "</div>"
            ],
            "text/plain": [
              "ДТП  Марка автомобиля        mean_r\n",
              "0        Toyota Camry  243053.23836\n",
              "1          Mazda CX-5 996047.631675\n",
              "2        KIA Sportage 194431.224889\n",
              "3        Toyota RAV 4 589313.272022\n",
              "4           VW Tiguan 177950.646875\n",
              "5      Nissan Qashqai 172961.365833\n",
              "6       Hyundai Creta 173881.470436\n",
              "7      Nissan X-Trail 156986.027847\n",
              "8    Skoda Octavia A7 410369.960639\n",
              "9      Renault Kaptur 84122.8587012\n",
              "10         Lada Vesta 192931.108374\n",
              "11     Chevrolet NIVA 606065.470363\n",
              "12            KIA Rio 165039.283166\n",
              "13     Renault Duster 538981.170639\n",
              "14        Skoda Rapid  62532.976749\n",
              "15    Renault Sandero  226110.64984\n",
              "16         Lada X-Ray 237595.826552\n",
              "17            VW Polo 54915.7853162\n",
              "18    Hyundai Solaris 163638.884143\n",
              "19        Lada Largus 170364.726422\n",
              "20      Renault Logan 36961.1659345\n",
              "21        Lada Granta  116016.39937\n",
              "22           Lada 4x4 37003.2405075\n",
              "23        Lada Kalina 28132.9730094\n",
              "24       Datsun on-DO 25988.0377567"
            ]
          },
          "execution_count": 24,
          "metadata": {},
          "output_type": "execute_result"
        }
      ],
      "source": [
        "df_pt_sv_cut['mean_r'] = pd.Series();\n",
        "for i in range(df_pt_sv_cut.shape[0]):\n",
        "  df_pt_sv_cut['mean_r'][i] = (df_pt_sv_cut['Легкое ДТП'][i] + df_pt_sv_cut['Крупное ДТП'][i] + df_pt_sv_cut['Угон, ДТП без востановления авто'][i]) / 3;\n",
        "new_df = df_pt_sv_cut.drop(['Легкое ДТП', 'Крупное ДТП', 'Угон, ДТП без востановления авто'], axis = 1).reset_index('Марка автомобиля')\n",
        "new_df"
      ]
    },
    {
      "cell_type": "markdown",
      "metadata": {
        "id": "LXg1l-ZitkqS"
      },
      "source": [
        "Средняя выплата по всем видам ДТП в совокупности в разрезе по маркам авто"
      ]
    },
    {
      "cell_type": "code",
      "execution_count": null,
      "metadata": {
        "colab": {
          "base_uri": "https://localhost:8080/",
          "height": 388
        },
        "id": "Zg-o8Hz8mzv3",
        "outputId": "293f0ba7-c207-4290-cb02-b598fe01f383"
      },
      "outputs": [
        {
          "data": {
            "image/png": "[encoded data removed]",
            "text/plain": [
              "<Figure size 576x432 with 1 Axes>"
            ]
          },
          "metadata": {
            "needs_background": "light"
          },
          "output_type": "display_data"
        }
      ],
      "source": [
        "sns.barplot(data = new_df.sort_values(by = 'mean_r', ascending = False), x = 'mean_r', y = 'Марка автомобиля');"
      ]
    },
    {
      "cell_type": "markdown",
      "metadata": {
        "id": "-QUsQUEZSqGk"
      },
      "source": [
        "Проверим зависимость средней выплаты при наступлении страховго случая от стоимости автомобиля"
      ]
    },
    {
      "cell_type": "code",
      "execution_count": null,
      "metadata": {
        "colab": {
          "base_uri": "https://localhost:8080/",
          "height": 819
        },
        "id": "q0_EnQgdS2B6",
        "outputId": "debf512a-aaac-4a05-bbd6-535eb0306c76"
      },
      "outputs": [
        {
          "data": {
            "text/html": [
              "<div>\n",
              "<style scoped>\n",
              "    .dataframe tbody tr th:only-of-type {\n",
              "        vertical-align: middle;\n",
              "    }\n",
              "\n",
              "    .dataframe tbody tr th {\n",
              "        vertical-align: top;\n",
              "    }\n",
              "\n",
              "    .dataframe thead th {\n",
              "        text-align: right;\n",
              "    }\n",
              "</style>\n",
              "<table border=\"1\" class=\"dataframe\">\n",
              "  <thead>\n",
              "    <tr style=\"text-align: right;\">\n",
              "      <th></th>\n",
              "      <th>car</th>\n",
              "      <th>mean</th>\n",
              "      <th>median</th>\n",
              "    </tr>\n",
              "  </thead>\n",
              "  <tbody>\n",
              "    <tr>\n",
              "      <th>0</th>\n",
              "      <td>Renault Duster</td>\n",
              "      <td>1175947.90522</td>\n",
              "      <td>1255200</td>\n",
              "    </tr>\n",
              "    <tr>\n",
              "      <th>1</th>\n",
              "      <td>Lada 4x4</td>\n",
              "      <td>424554.752399</td>\n",
              "      <td>418000</td>\n",
              "    </tr>\n",
              "    <tr>\n",
              "      <th>2</th>\n",
              "      <td>Lada Granta</td>\n",
              "      <td>459319.973529</td>\n",
              "      <td>435000</td>\n",
              "    </tr>\n",
              "    <tr>\n",
              "      <th>3</th>\n",
              "      <td>Datsun on-DO</td>\n",
              "      <td>414979.382353</td>\n",
              "      <td>400500</td>\n",
              "    </tr>\n",
              "    <tr>\n",
              "      <th>4</th>\n",
              "      <td>KIA Rio</td>\n",
              "      <td>825655.284722</td>\n",
              "      <td>870000</td>\n",
              "    </tr>\n",
              "    <tr>\n",
              "      <th>5</th>\n",
              "      <td>Hyundai Solaris</td>\n",
              "      <td>747420.685714</td>\n",
              "      <td>695000</td>\n",
              "    </tr>\n",
              "    <tr>\n",
              "      <th>6</th>\n",
              "      <td>Renault Logan</td>\n",
              "      <td>679219.909434</td>\n",
              "      <td>645017</td>\n",
              "    </tr>\n",
              "    <tr>\n",
              "      <th>7</th>\n",
              "      <td>Toyota Camry</td>\n",
              "      <td>1739079.41652</td>\n",
              "      <td>1370000</td>\n",
              "    </tr>\n",
              "    <tr>\n",
              "      <th>8</th>\n",
              "      <td>VW Polo</td>\n",
              "      <td>985698.021552</td>\n",
              "      <td>1099550</td>\n",
              "    </tr>\n",
              "    <tr>\n",
              "      <th>9</th>\n",
              "      <td>Hyundai Creta</td>\n",
              "      <td>1333856.40541</td>\n",
              "      <td>1345000</td>\n",
              "    </tr>\n",
              "    <tr>\n",
              "      <th>10</th>\n",
              "      <td>Lada Vesta</td>\n",
              "      <td>780466.227488</td>\n",
              "      <td>793000</td>\n",
              "    </tr>\n",
              "    <tr>\n",
              "      <th>11</th>\n",
              "      <td>Lada X-Ray</td>\n",
              "      <td>756732.1875</td>\n",
              "      <td>745000</td>\n",
              "    </tr>\n",
              "    <tr>\n",
              "      <th>12</th>\n",
              "      <td>Mazda CX-5</td>\n",
              "      <td>2563152.94118</td>\n",
              "      <td>2754000</td>\n",
              "    </tr>\n",
              "    <tr>\n",
              "      <th>13</th>\n",
              "      <td>KIA Sportage</td>\n",
              "      <td>1402510.61782</td>\n",
              "      <td>1585000</td>\n",
              "    </tr>\n",
              "    <tr>\n",
              "      <th>14</th>\n",
              "      <td>Skoda Rapid</td>\n",
              "      <td>1073149.95679</td>\n",
              "      <td>1178405</td>\n",
              "    </tr>\n",
              "    <tr>\n",
              "      <th>15</th>\n",
              "      <td>VW Tiguan</td>\n",
              "      <td>1673664.86637</td>\n",
              "      <td>1943800</td>\n",
              "    </tr>\n",
              "    <tr>\n",
              "      <th>16</th>\n",
              "      <td>Toyota RAV 4</td>\n",
              "      <td>1618596.18394</td>\n",
              "      <td>1523500</td>\n",
              "    </tr>\n",
              "    <tr>\n",
              "      <th>17</th>\n",
              "      <td>Renault Kaptur</td>\n",
              "      <td>1473066.46667</td>\n",
              "      <td>1471000</td>\n",
              "    </tr>\n",
              "    <tr>\n",
              "      <th>18</th>\n",
              "      <td>Chevrolet NIVA</td>\n",
              "      <td>365651.162791</td>\n",
              "      <td>339000</td>\n",
              "    </tr>\n",
              "    <tr>\n",
              "      <th>19</th>\n",
              "      <td>Lada Largus</td>\n",
              "      <td>709822.857143</td>\n",
              "      <td>750000</td>\n",
              "    </tr>\n",
              "    <tr>\n",
              "      <th>20</th>\n",
              "      <td>Skoda Octavia A7</td>\n",
              "      <td>967922.196078</td>\n",
              "      <td>939500</td>\n",
              "    </tr>\n",
              "    <tr>\n",
              "      <th>21</th>\n",
              "      <td>Nissan Qashqai</td>\n",
              "      <td>1220845.22744</td>\n",
              "      <td>1548000</td>\n",
              "    </tr>\n",
              "    <tr>\n",
              "      <th>22</th>\n",
              "      <td>Renault Sandero</td>\n",
              "      <td>913820.382166</td>\n",
              "      <td>979000</td>\n",
              "    </tr>\n",
              "    <tr>\n",
              "      <th>23</th>\n",
              "      <td>Lada Kalina</td>\n",
              "      <td>303968.253968</td>\n",
              "      <td>270000</td>\n",
              "    </tr>\n",
              "    <tr>\n",
              "      <th>24</th>\n",
              "      <td>Nissan X-Trail</td>\n",
              "      <td>1458975.10684</td>\n",
              "      <td>1407000</td>\n",
              "    </tr>\n",
              "  </tbody>\n",
              "</table>\n",
              "</div>"
            ],
            "text/plain": [
              "                 car          mean  median\n",
              "0     Renault Duster 1175947.90522 1255200\n",
              "1           Lada 4x4 424554.752399  418000\n",
              "2        Lada Granta 459319.973529  435000\n",
              "3       Datsun on-DO 414979.382353  400500\n",
              "4            KIA Rio 825655.284722  870000\n",
              "5    Hyundai Solaris 747420.685714  695000\n",
              "6      Renault Logan 679219.909434  645017\n",
              "7       Toyota Camry 1739079.41652 1370000\n",
              "8            VW Polo 985698.021552 1099550\n",
              "9      Hyundai Creta 1333856.40541 1345000\n",
              "10        Lada Vesta 780466.227488  793000\n",
              "11        Lada X-Ray   756732.1875  745000\n",
              "12        Mazda CX-5 2563152.94118 2754000\n",
              "13      KIA Sportage 1402510.61782 1585000\n",
              "14       Skoda Rapid 1073149.95679 1178405\n",
              "15         VW Tiguan 1673664.86637 1943800\n",
              "16      Toyota RAV 4 1618596.18394 1523500\n",
              "17    Renault Kaptur 1473066.46667 1471000\n",
              "18    Chevrolet NIVA 365651.162791  339000\n",
              "19       Lada Largus 709822.857143  750000\n",
              "20  Skoda Octavia A7 967922.196078  939500\n",
              "21    Nissan Qashqai 1220845.22744 1548000\n",
              "22   Renault Sandero 913820.382166  979000\n",
              "23       Lada Kalina 303968.253968  270000\n",
              "24    Nissan X-Trail 1458975.10684 1407000"
            ]
          },
          "execution_count": 26,
          "metadata": {},
          "output_type": "execute_result"
        }
      ],
      "source": [
        "df_price = pd.read_csv('./ar_price_data.csv', sep = ',');\n",
        "df_price"
      ]
    },
    {
      "cell_type": "markdown",
      "metadata": {
        "id": "m7YOgXx3f4Nt"
      },
      "source": [
        "Разбиение множества автомобилей на классы (эконом, средний, элитный)\n",
        "\n",
        "---\n",
        "\n"
      ]
    },
    {
      "cell_type": "code",
      "execution_count": null,
      "metadata": {
        "id": "LhFZaXW5f_91"
      },
      "outputs": [],
      "source": [
        "car_price = pd.Series(df_price['mean']);\n",
        "car_price = pd.qcut(car_price, 3).to_frame().drop_duplicates().sort_values(by = 'mean');\n",
        "\n",
        "econom = []; # авто класса эконом\n",
        "for i in range(df_price.shape[0]):\n",
        "  if (df_price['mean'][i] in car_price['mean'][1]):\n",
        "    econom.append(df_price['car'][i]);\n",
        "\n",
        "middle = []; # авто среднего класса\n",
        "for i in range(df_price.shape[0]):\n",
        "  if (df_price['mean'][i] in car_price['mean'][0]):\n",
        "    middle.append(df_price['car'][i]);\n",
        "\n",
        "business = []; # авто класса бизнес\n",
        "for i in range(df_price.shape[0]):\n",
        "  if (df_price['mean'][i] in car_price['mean'][7]):\n",
        "    business.append(df_price['car'][i]);"
      ]
    },
    {
      "cell_type": "code",
      "execution_count": null,
      "metadata": {
        "colab": {
          "base_uri": "https://localhost:8080/",
          "height": 388
        },
        "id": "mRemD6OlVx2V",
        "outputId": "f13a9b1f-2a39-44a6-e3d3-6389f9e9a05e"
      },
      "outputs": [
        {
          "data": {
            "image/png": "[encoded data removed]",
            "text/plain": [
              "<Figure size 576x432 with 1 Axes>"
            ]
          },
          "metadata": {
            "needs_background": "light"
          },
          "output_type": "display_data"
        }
      ],
      "source": [
        "df_price_cut = df_price.drop('mean', axis = 1);\n",
        "df_price_cut\n",
        "sns.barplot(data = df_price_cut.sort_values(by = 'median', ascending = False), x = 'median', y = 'car');"
      ]
    },
    {
      "cell_type": "markdown",
      "metadata": {
        "id": "FM9RSB51juIK"
      },
      "source": [
        "Видим, что чем дороже стоиомсть автомобиля, тем реже данный автомобиль фигурирует в ДТП"
      ]
    },
    {
      "cell_type": "markdown",
      "metadata": {
        "id": "Kbb7-HfhcfRK"
      },
      "source": [
        "***Пункт #3***"
      ]
    },
    {
      "cell_type": "markdown",
      "metadata": {
        "id": "jVtDs8tULKyF"
      },
      "source": [
        "**Частота ДТП в разрезе по маркам авто**"
      ]
    },
    {
      "cell_type": "code",
      "execution_count": null,
      "metadata": {
        "colab": {
          "base_uri": "https://localhost:8080/",
          "height": 850
        },
        "id": "gRuc1n91LOpT",
        "outputId": "173abc28-51ee-4a8c-8ab5-a28f86d4ca9b"
      },
      "outputs": [
        {
          "data": {
            "text/html": [
              "<div>\n",
              "<style scoped>\n",
              "    .dataframe tbody tr th:only-of-type {\n",
              "        vertical-align: middle;\n",
              "    }\n",
              "\n",
              "    .dataframe tbody tr th {\n",
              "        vertical-align: top;\n",
              "    }\n",
              "\n",
              "    .dataframe thead th {\n",
              "        text-align: right;\n",
              "    }\n",
              "</style>\n",
              "<table border=\"1\" class=\"dataframe\">\n",
              "  <thead>\n",
              "    <tr style=\"text-align: right;\">\n",
              "      <th></th>\n",
              "      <th>Крупное ДТП</th>\n",
              "      <th>Легкое ДТП</th>\n",
              "      <th>Угон, ДТП без востановления авто</th>\n",
              "    </tr>\n",
              "    <tr>\n",
              "      <th>Марка автомобиля</th>\n",
              "      <th></th>\n",
              "      <th></th>\n",
              "      <th></th>\n",
              "    </tr>\n",
              "  </thead>\n",
              "  <tbody>\n",
              "    <tr>\n",
              "      <th>Chevrolet NIVA</th>\n",
              "      <td>0.0337</td>\n",
              "      <td>0.224</td>\n",
              "      <td>0.00307</td>\n",
              "    </tr>\n",
              "    <tr>\n",
              "      <th>Datsun on-DO</th>\n",
              "      <td>0.00935</td>\n",
              "      <td>0.22</td>\n",
              "      <td>0.00467</td>\n",
              "    </tr>\n",
              "    <tr>\n",
              "      <th>Hyundai Creta</th>\n",
              "      <td>0.0252</td>\n",
              "      <td>0.229</td>\n",
              "      <td>0.00581</td>\n",
              "    </tr>\n",
              "    <tr>\n",
              "      <th>Hyundai Solaris</th>\n",
              "      <td>0.0374</td>\n",
              "      <td>0.192</td>\n",
              "      <td>0.0116</td>\n",
              "    </tr>\n",
              "    <tr>\n",
              "      <th>KIA Rio</th>\n",
              "      <td>0.0189</td>\n",
              "      <td>0.197</td>\n",
              "      <td>0.0122</td>\n",
              "    </tr>\n",
              "    <tr>\n",
              "      <th>KIA Sportage</th>\n",
              "      <td>0.029</td>\n",
              "      <td>0.181</td>\n",
              "      <td>0.00323</td>\n",
              "    </tr>\n",
              "    <tr>\n",
              "      <th>Lada 4x4</th>\n",
              "      <td>0.0374</td>\n",
              "      <td>0.187</td>\n",
              "      <td>0</td>\n",
              "    </tr>\n",
              "    <tr>\n",
              "      <th>Lada Granta</th>\n",
              "      <td>0.0211</td>\n",
              "      <td>0.198</td>\n",
              "      <td>0.00767</td>\n",
              "    </tr>\n",
              "    <tr>\n",
              "      <th>Lada Kalina</th>\n",
              "      <td>0.0275</td>\n",
              "      <td>0.204</td>\n",
              "      <td>0.00392</td>\n",
              "    </tr>\n",
              "    <tr>\n",
              "      <th>Lada Largus</th>\n",
              "      <td>0.0154</td>\n",
              "      <td>0.2</td>\n",
              "      <td>0.00769</td>\n",
              "    </tr>\n",
              "    <tr>\n",
              "      <th>Lada Vesta</th>\n",
              "      <td>0.0275</td>\n",
              "      <td>0.22</td>\n",
              "      <td>0.0116</td>\n",
              "    </tr>\n",
              "    <tr>\n",
              "      <th>Lada X-Ray</th>\n",
              "      <td>0.0203</td>\n",
              "      <td>0.218</td>\n",
              "      <td>0.00872</td>\n",
              "    </tr>\n",
              "    <tr>\n",
              "      <th>Mazda CX-5</th>\n",
              "      <td>0.0103</td>\n",
              "      <td>0.18</td>\n",
              "      <td>0.00515</td>\n",
              "    </tr>\n",
              "    <tr>\n",
              "      <th>Nissan Qashqai</th>\n",
              "      <td>0.0196</td>\n",
              "      <td>0.167</td>\n",
              "      <td>0</td>\n",
              "    </tr>\n",
              "    <tr>\n",
              "      <th>Nissan X-Trail</th>\n",
              "      <td>0.0183</td>\n",
              "      <td>0.207</td>\n",
              "      <td>0.0061</td>\n",
              "    </tr>\n",
              "    <tr>\n",
              "      <th>Renault Duster</th>\n",
              "      <td>0.0164</td>\n",
              "      <td>0.181</td>\n",
              "      <td>0.00274</td>\n",
              "    </tr>\n",
              "    <tr>\n",
              "      <th>Renault Kaptur</th>\n",
              "      <td>0.0395</td>\n",
              "      <td>0.149</td>\n",
              "      <td>0</td>\n",
              "    </tr>\n",
              "    <tr>\n",
              "      <th>Renault Logan</th>\n",
              "      <td>0.0354</td>\n",
              "      <td>0.177</td>\n",
              "      <td>0.00643</td>\n",
              "    </tr>\n",
              "    <tr>\n",
              "      <th>Renault Sandero</th>\n",
              "      <td>0.0217</td>\n",
              "      <td>0.198</td>\n",
              "      <td>0.00929</td>\n",
              "    </tr>\n",
              "    <tr>\n",
              "      <th>Skoda Octavia A7</th>\n",
              "      <td>0.0304</td>\n",
              "      <td>0.194</td>\n",
              "      <td>0.0076</td>\n",
              "    </tr>\n",
              "    <tr>\n",
              "      <th>Skoda Rapid</th>\n",
              "      <td>0.0182</td>\n",
              "      <td>0.221</td>\n",
              "      <td>0</td>\n",
              "    </tr>\n",
              "    <tr>\n",
              "      <th>Toyota Camry</th>\n",
              "      <td>0.0233</td>\n",
              "      <td>0.198</td>\n",
              "      <td>0</td>\n",
              "    </tr>\n",
              "    <tr>\n",
              "      <th>Toyota RAV 4</th>\n",
              "      <td>0.00946</td>\n",
              "      <td>0.227</td>\n",
              "      <td>0.00473</td>\n",
              "    </tr>\n",
              "    <tr>\n",
              "      <th>VW Polo</th>\n",
              "      <td>0.0278</td>\n",
              "      <td>0.186</td>\n",
              "      <td>0.00857</td>\n",
              "    </tr>\n",
              "    <tr>\n",
              "      <th>VW Tiguan</th>\n",
              "      <td>0.0301</td>\n",
              "      <td>0.207</td>\n",
              "      <td>0.00752</td>\n",
              "    </tr>\n",
              "  </tbody>\n",
              "</table>\n",
              "</div>"
            ],
            "text/plain": [
              "                  Крупное ДТП  Легкое ДТП  Угон, ДТП без востановления авто\n",
              "Марка автомобиля                                                           \n",
              "Chevrolet NIVA         0.0337       0.224                           0.00307\n",
              "Datsun on-DO          0.00935        0.22                           0.00467\n",
              "Hyundai Creta          0.0252       0.229                           0.00581\n",
              "Hyundai Solaris        0.0374       0.192                            0.0116\n",
              "KIA Rio                0.0189       0.197                            0.0122\n",
              "KIA Sportage            0.029       0.181                           0.00323\n",
              "Lada 4x4               0.0374       0.187                                 0\n",
              "Lada Granta            0.0211       0.198                           0.00767\n",
              "Lada Kalina            0.0275       0.204                           0.00392\n",
              "Lada Largus            0.0154         0.2                           0.00769\n",
              "Lada Vesta             0.0275        0.22                            0.0116\n",
              "Lada X-Ray             0.0203       0.218                           0.00872\n",
              "Mazda CX-5             0.0103        0.18                           0.00515\n",
              "Nissan Qashqai         0.0196       0.167                                 0\n",
              "Nissan X-Trail         0.0183       0.207                            0.0061\n",
              "Renault Duster         0.0164       0.181                           0.00274\n",
              "Renault Kaptur         0.0395       0.149                                 0\n",
              "Renault Logan          0.0354       0.177                           0.00643\n",
              "Renault Sandero        0.0217       0.198                           0.00929\n",
              "Skoda Octavia A7       0.0304       0.194                            0.0076\n",
              "Skoda Rapid            0.0182       0.221                                 0\n",
              "Toyota Camry           0.0233       0.198                                 0\n",
              "Toyota RAV 4          0.00946       0.227                           0.00473\n",
              "VW Polo                0.0278       0.186                           0.00857\n",
              "VW Tiguan              0.0301       0.207                           0.00752"
            ]
          },
          "execution_count": 29,
          "metadata": {},
          "output_type": "execute_result"
        }
      ],
      "source": [
        "df_pt_cm = pd.pivot_table(df,\n",
        "                        index = 'Марка автомобиля',\n",
        "                        values = ['Легкое ДТП', 'Крупное ДТП', 'Угон, ДТП без востановления авто'],\n",
        "                        fill_value = 0\n",
        "                       );\n",
        "pd.set_option('display.float_format', '{:.3g}'.format)\n",
        "df_pt_cm"
      ]
    },
    {
      "cell_type": "markdown",
      "metadata": {
        "id": "F-mdSMjzld3M"
      },
      "source": [
        "**Частота легкого ДТП в разрезе по маркам авто**"
      ]
    },
    {
      "cell_type": "code",
      "execution_count": null,
      "metadata": {
        "colab": {
          "base_uri": "https://localhost:8080/",
          "height": 466
        },
        "id": "LhtwqNt3k-oD",
        "outputId": "9213c4c6-b1d7-42eb-ae97-1d11be5c59a5"
      },
      "outputs": [
        {
          "data": {
            "image/png": "[encoded data removed]",
            "text/plain": [
              "<Figure size 576x432 with 1 Axes>"
            ]
          },
          "metadata": {
            "needs_background": "light"
          },
          "output_type": "display_data"
        }
      ],
      "source": [
        "ax = (df_pt_cm['Легкое ДТП'].sort_values()).T.plot(kind = 'bar', color = 'cornflowerblue');\n",
        "ylab = ax.set_ylabel(\"Частота попадания в ДТП\");"
      ]
    },
    {
      "cell_type": "markdown",
      "metadata": {
        "id": "SyWtTGLVlu-Y"
      },
      "source": [
        "**Частота крупного ДТП в разрезе по маркам авто**"
      ]
    },
    {
      "cell_type": "code",
      "execution_count": null,
      "metadata": {
        "colab": {
          "base_uri": "https://localhost:8080/",
          "height": 466
        },
        "id": "2DsaywaPlqmE",
        "outputId": "73fe353b-a4ba-4fe7-ea93-7d8519ef91c8"
      },
      "outputs": [
        {
          "data": {
            "image/png": "[encoded data removed]",
            "text/plain": [
              "<Figure size 576x432 with 1 Axes>"
            ]
          },
          "metadata": {
            "needs_background": "light"
          },
          "output_type": "display_data"
        }
      ],
      "source": [
        "ax = (df_pt_cm['Крупное ДТП'].sort_values()).T.plot(kind = 'bar', color = 'cornflowerblue');\n",
        "ylab = ax.set_ylabel(\"Частота попадания в ДТП\");"
      ]
    },
    {
      "cell_type": "markdown",
      "metadata": {
        "id": "va8k508zl-0b"
      },
      "source": [
        "**Частота угона, ДТП без восстановления авто в разрезе по маркам авто**"
      ]
    },
    {
      "cell_type": "code",
      "execution_count": null,
      "metadata": {
        "colab": {
          "base_uri": "https://localhost:8080/",
          "height": 466
        },
        "id": "fNp_sOGvmDbK",
        "outputId": "ee83cef7-e857-4fc0-92d4-040388781bcf"
      },
      "outputs": [
        {
          "data": {
            "image/png": "[encoded data removed]",
            "text/plain": [
              "<Figure size 576x432 with 1 Axes>"
            ]
          },
          "metadata": {
            "needs_background": "light"
          },
          "output_type": "display_data"
        }
      ],
      "source": [
        "ax = (df_pt_cm['Угон, ДТП без востановления авто'].sort_values()).T.plot(kind = 'bar', color = 'cornflowerblue');\n",
        "ylab = ax.set_ylabel(\"Частота попадания в ДТП\");"
      ]
    },
    {
      "cell_type": "markdown",
      "metadata": {
        "id": "dXEUQpL2cl9T"
      },
      "source": [
        "***Пункт #4***"
      ]
    },
    {
      "cell_type": "markdown",
      "metadata": {
        "id": "wJx2dgbnwPtC"
      },
      "source": [
        "**Средняя выплата между клиентами с частичным и полным тарифами на страхование по маркам авто**\n"
      ]
    },
    {
      "cell_type": "code",
      "execution_count": null,
      "metadata": {
        "colab": {
          "base_uri": "https://localhost:8080/",
          "height": 850
        },
        "id": "lKwYVC52wvA2",
        "outputId": "c274bdf8-a998-45db-f8f7-f0d91709ea55"
      },
      "outputs": [
        {
          "data": {
            "text/html": [
              "<div>\n",
              "<style scoped>\n",
              "    .dataframe tbody tr th:only-of-type {\n",
              "        vertical-align: middle;\n",
              "    }\n",
              "\n",
              "    .dataframe tbody tr th {\n",
              "        vertical-align: top;\n",
              "    }\n",
              "\n",
              "    .dataframe thead th {\n",
              "        text-align: right;\n",
              "    }\n",
              "</style>\n",
              "<table border=\"1\" class=\"dataframe\">\n",
              "  <thead>\n",
              "    <tr style=\"text-align: right;\">\n",
              "      <th>Тип страхования</th>\n",
              "      <th>полное</th>\n",
              "      <th>частичное</th>\n",
              "    </tr>\n",
              "    <tr>\n",
              "      <th>Марка автомобиля</th>\n",
              "      <th></th>\n",
              "      <th></th>\n",
              "    </tr>\n",
              "  </thead>\n",
              "  <tbody>\n",
              "    <tr>\n",
              "      <th>Chevrolet NIVA</th>\n",
              "      <td>42063.8213592</td>\n",
              "      <td>12535.270852</td>\n",
              "    </tr>\n",
              "    <tr>\n",
              "      <th>Datsun on-DO</th>\n",
              "      <td>6752.0220339</td>\n",
              "      <td>5528.26322581</td>\n",
              "    </tr>\n",
              "    <tr>\n",
              "      <th>Hyundai Creta</th>\n",
              "      <td>29206.2159509</td>\n",
              "      <td>37868.3640227</td>\n",
              "    </tr>\n",
              "    <tr>\n",
              "      <th>Hyundai Solaris</th>\n",
              "      <td>27298.9422222</td>\n",
              "      <td>14822.5907273</td>\n",
              "    </tr>\n",
              "    <tr>\n",
              "      <th>KIA Rio</th>\n",
              "      <td>24339.2193309</td>\n",
              "      <td>12855.2553259</td>\n",
              "    </tr>\n",
              "    <tr>\n",
              "      <th>KIA Sportage</th>\n",
              "      <td>52054.246</td>\n",
              "      <td>30246.4866667</td>\n",
              "    </tr>\n",
              "    <tr>\n",
              "      <th>Lada 4x4</th>\n",
              "      <td>12338.2744681</td>\n",
              "      <td>13642.1415</td>\n",
              "    </tr>\n",
              "    <tr>\n",
              "      <th>Lada Granta</th>\n",
              "      <td>12713.6901587</td>\n",
              "      <td>6534.16085165</td>\n",
              "    </tr>\n",
              "    <tr>\n",
              "      <th>Lada Kalina</th>\n",
              "      <td>7216.64418605</td>\n",
              "      <td>8724.62485207</td>\n",
              "    </tr>\n",
              "    <tr>\n",
              "      <th>Lada Largus</th>\n",
              "      <td>15182.4906542</td>\n",
              "      <td>7175.35300353</td>\n",
              "    </tr>\n",
              "    <tr>\n",
              "      <th>Lada Vesta</th>\n",
              "      <td>35743.0568528</td>\n",
              "      <td>14080.5413793</td>\n",
              "    </tr>\n",
              "    <tr>\n",
              "      <th>Lada X-Ray</th>\n",
              "      <td>27499.8</td>\n",
              "      <td>11792.9473684</td>\n",
              "    </tr>\n",
              "    <tr>\n",
              "      <th>Mazda CX-5</th>\n",
              "      <td>69881.0384615</td>\n",
              "      <td>18159.0534884</td>\n",
              "    </tr>\n",
              "    <tr>\n",
              "      <th>Nissan Qashqai</th>\n",
              "      <td>14901.3694915</td>\n",
              "      <td>28129.3827586</td>\n",
              "    </tr>\n",
              "    <tr>\n",
              "      <th>Nissan X-Trail</th>\n",
              "      <td>31468.8980392</td>\n",
              "      <td>21515.1619469</td>\n",
              "    </tr>\n",
              "    <tr>\n",
              "      <th>Renault Duster</th>\n",
              "      <td>28399.5268519</td>\n",
              "      <td>10250.5116732</td>\n",
              "    </tr>\n",
              "    <tr>\n",
              "      <th>Renault Kaptur</th>\n",
              "      <td>22311.5661017</td>\n",
              "      <td>19580.2786982</td>\n",
              "    </tr>\n",
              "    <tr>\n",
              "      <th>Renault Logan</th>\n",
              "      <td>8894.57926829</td>\n",
              "      <td>7183.94104803</td>\n",
              "    </tr>\n",
              "    <tr>\n",
              "      <th>Renault Sandero</th>\n",
              "      <td>26479.7732673</td>\n",
              "      <td>15861.9301802</td>\n",
              "    </tr>\n",
              "    <tr>\n",
              "      <th>Skoda Octavia A7</th>\n",
              "      <td>31709.8257143</td>\n",
              "      <td>31639.9849741</td>\n",
              "    </tr>\n",
              "    <tr>\n",
              "      <th>Skoda Rapid</th>\n",
              "      <td>13667.4540816</td>\n",
              "      <td>13516.462069</td>\n",
              "    </tr>\n",
              "    <tr>\n",
              "      <th>Toyota Camry</th>\n",
              "      <td>34745.262069</td>\n",
              "      <td>39240.1263158</td>\n",
              "    </tr>\n",
              "    <tr>\n",
              "      <th>Toyota RAV 4</th>\n",
              "      <td>47979.7522388</td>\n",
              "      <td>23742.4982699</td>\n",
              "    </tr>\n",
              "    <tr>\n",
              "      <th>VW Polo</th>\n",
              "      <td>14187.0407692</td>\n",
              "      <td>13367.1703264</td>\n",
              "    </tr>\n",
              "    <tr>\n",
              "      <th>VW Tiguan</th>\n",
              "      <td>50251.2884211</td>\n",
              "      <td>27383.1128655</td>\n",
              "    </tr>\n",
              "  </tbody>\n",
              "</table>\n",
              "</div>"
            ],
            "text/plain": [
              "Тип страхования         полное     частичное\n",
              "Марка автомобиля                            \n",
              "Chevrolet NIVA   42063.8213592  12535.270852\n",
              "Datsun on-DO      6752.0220339 5528.26322581\n",
              "Hyundai Creta    29206.2159509 37868.3640227\n",
              "Hyundai Solaris  27298.9422222 14822.5907273\n",
              "KIA Rio          24339.2193309 12855.2553259\n",
              "KIA Sportage         52054.246 30246.4866667\n",
              "Lada 4x4         12338.2744681    13642.1415\n",
              "Lada Granta      12713.6901587 6534.16085165\n",
              "Lada Kalina      7216.64418605 8724.62485207\n",
              "Lada Largus      15182.4906542 7175.35300353\n",
              "Lada Vesta       35743.0568528 14080.5413793\n",
              "Lada X-Ray             27499.8 11792.9473684\n",
              "Mazda CX-5       69881.0384615 18159.0534884\n",
              "Nissan Qashqai   14901.3694915 28129.3827586\n",
              "Nissan X-Trail   31468.8980392 21515.1619469\n",
              "Renault Duster   28399.5268519 10250.5116732\n",
              "Renault Kaptur   22311.5661017 19580.2786982\n",
              "Renault Logan    8894.57926829 7183.94104803\n",
              "Renault Sandero  26479.7732673 15861.9301802\n",
              "Skoda Octavia A7 31709.8257143 31639.9849741\n",
              "Skoda Rapid      13667.4540816  13516.462069\n",
              "Toyota Camry      34745.262069 39240.1263158\n",
              "Toyota RAV 4     47979.7522388 23742.4982699\n",
              "VW Polo          14187.0407692 13367.1703264\n",
              "VW Tiguan        50251.2884211 27383.1128655"
            ]
          },
          "execution_count": 33,
          "metadata": {},
          "output_type": "execute_result"
        }
      ],
      "source": [
        "df_pt_svts = pd.pivot_table(df,\n",
        "                            index = 'Марка автомобиля',\n",
        "                            values = 'Выплата, руб.',\n",
        "                            columns = 'Тип страхования',\n",
        "                            aggfunc = np.mean\n",
        "                           );\n",
        "pd.set_option('display.float_format', '{:.12g}'.format)\n",
        "df_pt_svts"
      ]
    },
    {
      "cell_type": "code",
      "execution_count": null,
      "metadata": {
        "colab": {
          "base_uri": "https://localhost:8080/",
          "height": 575
        },
        "id": "YUYu7884z9fj",
        "outputId": "bf1dca3f-0087-4480-a2dd-76dbd773ea2a"
      },
      "outputs": [
        {
          "data": {
            "image/png": "[encoded data removed]",
            "text/plain": [
              "<Figure size 720x576 with 1 Axes>"
            ]
          },
          "metadata": {
            "needs_background": "light"
          },
          "output_type": "display_data"
        }
      ],
      "source": [
        "plt.rcParams['figure.figsize'] = (10, 8);\n",
        "ax = (df_pt_svts.sort_values(by = 'полное', ascending = False)).plot(kind = 'bar', color = ['cornflowerblue', 'darkturquoise']);\n",
        "ylab = ax.set_ylabel(\"Средняя выплата, руб.\");"
      ]
    },
    {
      "cell_type": "code",
      "execution_count": null,
      "metadata": {
        "colab": {
          "base_uri": "https://localhost:8080/",
          "height": 575
        },
        "id": "dDiC-aM91z0h",
        "outputId": "b35f2e18-043a-4254-f5de-06bfc394cb5a"
      },
      "outputs": [
        {
          "data": {
            "image/png": "[encoded data removed]",
            "text/plain": [
              "<Figure size 720x576 with 1 Axes>"
            ]
          },
          "metadata": {
            "needs_background": "light"
          },
          "output_type": "display_data"
        }
      ],
      "source": [
        "ax = (df_pt_svts.sort_values(by = 'частичное', ascending = False)).plot(kind = 'bar', color = ['cornflowerblue', 'darkturquoise']);\n",
        "ylab = ax.set_ylabel(\"Средняя выплата, руб.\");"
      ]
    },
    {
      "cell_type": "markdown",
      "metadata": {
        "id": "OtnB9klvDi6M"
      },
      "source": [
        "Средняя выплата по легкому ДТП между клиентами с полным и частичным тарифами на страхование\n",
        "\n",
        "---\n",
        "\n"
      ]
    },
    {
      "cell_type": "code",
      "execution_count": null,
      "metadata": {
        "colab": {
          "base_uri": "https://localhost:8080/",
          "height": 850
        },
        "id": "MDeOliiwG-8x",
        "outputId": "df4eb4a9-4470-41d4-a074-b94f263c1705"
      },
      "outputs": [
        {
          "data": {
            "text/html": [
              "<div>\n",
              "<style scoped>\n",
              "    .dataframe tbody tr th:only-of-type {\n",
              "        vertical-align: middle;\n",
              "    }\n",
              "\n",
              "    .dataframe tbody tr th {\n",
              "        vertical-align: top;\n",
              "    }\n",
              "\n",
              "    .dataframe thead th {\n",
              "        text-align: right;\n",
              "    }\n",
              "</style>\n",
              "<table border=\"1\" class=\"dataframe\">\n",
              "  <thead>\n",
              "    <tr style=\"text-align: right;\">\n",
              "      <th>Тип страхования</th>\n",
              "      <th>полное</th>\n",
              "      <th>частичное</th>\n",
              "    </tr>\n",
              "    <tr>\n",
              "      <th>Марка автомобиля</th>\n",
              "      <th></th>\n",
              "      <th></th>\n",
              "    </tr>\n",
              "  </thead>\n",
              "  <tbody>\n",
              "    <tr>\n",
              "      <th>Chevrolet NIVA</th>\n",
              "      <td>50760.36</td>\n",
              "      <td>43045.2735849</td>\n",
              "    </tr>\n",
              "    <tr>\n",
              "      <th>Datsun on-DO</th>\n",
              "      <td>19854.35</td>\n",
              "      <td>25208.5090909</td>\n",
              "    </tr>\n",
              "    <tr>\n",
              "      <th>Hyundai Creta</th>\n",
              "      <td>87303.6088235</td>\n",
              "      <td>103349.247619</td>\n",
              "    </tr>\n",
              "    <tr>\n",
              "      <th>Hyundai Solaris</th>\n",
              "      <td>46232.365</td>\n",
              "      <td>48232.5880734</td>\n",
              "    </tr>\n",
              "    <tr>\n",
              "      <th>KIA Rio</th>\n",
              "      <td>37916.4693878</td>\n",
              "      <td>48788.3804687</td>\n",
              "    </tr>\n",
              "    <tr>\n",
              "      <th>KIA Sportage</th>\n",
              "      <td>98454.16</td>\n",
              "      <td>130363.496774</td>\n",
              "    </tr>\n",
              "    <tr>\n",
              "      <th>Lada 4x4</th>\n",
              "      <td>45834.0470588</td>\n",
              "      <td>52521.1</td>\n",
              "    </tr>\n",
              "    <tr>\n",
              "      <th>Lada Granta</th>\n",
              "      <td>25897.6310345</td>\n",
              "      <td>20782.4317568</td>\n",
              "    </tr>\n",
              "    <tr>\n",
              "      <th>Lada Kalina</th>\n",
              "      <td>30373.6769231</td>\n",
              "      <td>29572.2615385</td>\n",
              "    </tr>\n",
              "    <tr>\n",
              "      <th>Lada Largus</th>\n",
              "      <td>20492.575</td>\n",
              "      <td>22938.0844828</td>\n",
              "    </tr>\n",
              "    <tr>\n",
              "      <th>Lada Vesta</th>\n",
              "      <td>50511.0204545</td>\n",
              "      <td>45482.6138889</td>\n",
              "    </tr>\n",
              "    <tr>\n",
              "      <th>Lada X-Ray</th>\n",
              "      <td>41080.3580645</td>\n",
              "      <td>42171.1772727</td>\n",
              "    </tr>\n",
              "    <tr>\n",
              "      <th>Mazda CX-5</th>\n",
              "      <td>108513.15</td>\n",
              "      <td>86759.9222222</td>\n",
              "    </tr>\n",
              "    <tr>\n",
              "      <th>Nissan Qashqai</th>\n",
              "      <td>97686.7555556</td>\n",
              "      <td>82481.948</td>\n",
              "    </tr>\n",
              "    <tr>\n",
              "      <th>Nissan X-Trail</th>\n",
              "      <td>75505.84</td>\n",
              "      <td>79930.0125</td>\n",
              "    </tr>\n",
              "    <tr>\n",
              "      <th>Renault Duster</th>\n",
              "      <td>50753.2227273</td>\n",
              "      <td>46801.0318182</td>\n",
              "    </tr>\n",
              "    <tr>\n",
              "      <th>Renault Kaptur</th>\n",
              "      <td>94397.0666667</td>\n",
              "      <td>67451.475</td>\n",
              "    </tr>\n",
              "    <tr>\n",
              "      <th>Renault Logan</th>\n",
              "      <td>19503.8272727</td>\n",
              "      <td>22374.4659091</td>\n",
              "    </tr>\n",
              "    <tr>\n",
              "      <th>Renault Sandero</th>\n",
              "      <td>55302.1368421</td>\n",
              "      <td>55473.6911111</td>\n",
              "    </tr>\n",
              "    <tr>\n",
              "      <th>Skoda Octavia A7</th>\n",
              "      <td>46460.1375</td>\n",
              "      <td>87929.6302326</td>\n",
              "    </tr>\n",
              "    <tr>\n",
              "      <th>Skoda Rapid</th>\n",
              "      <td>54460.7809524</td>\n",
              "      <td>43637.7</td>\n",
              "    </tr>\n",
              "    <tr>\n",
              "      <th>Toyota Camry</th>\n",
              "      <td>98042.6789474</td>\n",
              "      <td>113306.615625</td>\n",
              "    </tr>\n",
              "    <tr>\n",
              "      <th>Toyota RAV 4</th>\n",
              "      <td>92820.7517241</td>\n",
              "      <td>90548.4746269</td>\n",
              "    </tr>\n",
              "    <tr>\n",
              "      <th>VW Polo</th>\n",
              "      <td>52109.6772727</td>\n",
              "      <td>49016.68</td>\n",
              "    </tr>\n",
              "    <tr>\n",
              "      <th>VW Tiguan</th>\n",
              "      <td>95637.0625</td>\n",
              "      <td>98630.8419355</td>\n",
              "    </tr>\n",
              "  </tbody>\n",
              "</table>\n",
              "</div>"
            ],
            "text/plain": [
              "Тип страхования         полное     частичное\n",
              "Марка автомобиля                            \n",
              "Chevrolet NIVA        50760.36 43045.2735849\n",
              "Datsun on-DO          19854.35 25208.5090909\n",
              "Hyundai Creta    87303.6088235 103349.247619\n",
              "Hyundai Solaris      46232.365 48232.5880734\n",
              "KIA Rio          37916.4693878 48788.3804687\n",
              "KIA Sportage          98454.16 130363.496774\n",
              "Lada 4x4         45834.0470588       52521.1\n",
              "Lada Granta      25897.6310345 20782.4317568\n",
              "Lada Kalina      30373.6769231 29572.2615385\n",
              "Lada Largus          20492.575 22938.0844828\n",
              "Lada Vesta       50511.0204545 45482.6138889\n",
              "Lada X-Ray       41080.3580645 42171.1772727\n",
              "Mazda CX-5           108513.15 86759.9222222\n",
              "Nissan Qashqai   97686.7555556     82481.948\n",
              "Nissan X-Trail        75505.84    79930.0125\n",
              "Renault Duster   50753.2227273 46801.0318182\n",
              "Renault Kaptur   94397.0666667     67451.475\n",
              "Renault Logan    19503.8272727 22374.4659091\n",
              "Renault Sandero  55302.1368421 55473.6911111\n",
              "Skoda Octavia A7    46460.1375 87929.6302326\n",
              "Skoda Rapid      54460.7809524       43637.7\n",
              "Toyota Camry     98042.6789474 113306.615625\n",
              "Toyota RAV 4     92820.7517241 90548.4746269\n",
              "VW Polo          52109.6772727      49016.68\n",
              "VW Tiguan           95637.0625 98630.8419355"
            ]
          },
          "execution_count": 137,
          "metadata": {},
          "output_type": "execute_result"
        }
      ],
      "source": [
        "df_cut = df.drop(df[df['Легкое ДТП'] == 0].index);\n",
        "df_pt_svts = pd.pivot_table(df_cut,\n",
        "                            index = 'Марка автомобиля',\n",
        "                            values = 'Выплата, руб.',\n",
        "                            columns = 'Тип страхования',\n",
        "                            aggfunc = np.mean\n",
        "                           );\n",
        "pd.set_option('display.float_format', '{:.12g}'.format)\n",
        "df_pt_svts"
      ]
    },
    {
      "cell_type": "code",
      "execution_count": null,
      "metadata": {
        "id": "UFHLO0GGlntj"
      },
      "outputs": [],
      "source": [
        "df_pt_svts.columns.name = None\n",
        "df_pt_svts = df_pt_svts.reset_index() # не перезапускать повторно этот кусок"
      ]
    },
    {
      "cell_type": "markdown",
      "metadata": {
        "id": "-vCxFjvZOeVk"
      },
      "source": [
        "Средняя выплата по легкому ДТП между клиентами с полным и частичным тарифами на страхование в разрезе по классам авто\n",
        "\n",
        "---\n",
        "\n"
      ]
    },
    {
      "cell_type": "code",
      "execution_count": null,
      "metadata": {
        "id": "nbRAFiLbOu8C"
      },
      "outputs": [],
      "source": [
        "k1 = []; # массив сумм\n",
        "for i in range(3):\n",
        "  k1.append([0] * 2);\n",
        "n1 = [0, 0, 0]; # массив количеств\n",
        "\n",
        "for i in range(df_pt_svts.shape[0]):\n",
        "  if (df_pt_svts['Марка автомобиля'][i] in econom):\n",
        "    k1[0][0] += df_pt_svts['полное'][i];\n",
        "    k1[0][1] += df_pt_svts['частичное'][i];\n",
        "    n1[0] += 1;\n",
        "  elif (df_pt_svts['Марка автомобиля'][i] in middle):\n",
        "    k1[1][0] += df_pt_svts['полное'][i];\n",
        "    k1[1][1] += df_pt_svts['частичное'][i];\n",
        "    n1[1] += 1;\n",
        "  else:\n",
        "    k1[2][0] += df_pt_svts['полное'][i];\n",
        "    k1[2][1] += df_pt_svts['частичное'][i];\n",
        "    n1[2] += 1;\n",
        "\n",
        "k1[0][0] /= n1[0];\n",
        "k1[0][1] /= n1[0];\n",
        "k1[1][0] /= n1[1];\n",
        "k1[1][1] /= n1[1];\n",
        "k1[2][0] /= n1[2];\n",
        "k1[2][1] /= n1[2];"
      ]
    },
    {
      "cell_type": "markdown",
      "metadata": {
        "id": "ghW-cY42Hfzc"
      },
      "source": [
        "Средняя выплата по крупному ДТП между клиентами с полным и частичным тарифами на страхование\n",
        "\n",
        "---\n",
        "\n"
      ]
    },
    {
      "cell_type": "code",
      "execution_count": null,
      "metadata": {
        "colab": {
          "base_uri": "https://localhost:8080/",
          "height": 850
        },
        "id": "UHiOuYeuHkUf",
        "outputId": "5cf8d638-cf9e-4a6c-9e96-0f06e0209342"
      },
      "outputs": [
        {
          "data": {
            "text/html": [
              "<div>\n",
              "<style scoped>\n",
              "    .dataframe tbody tr th:only-of-type {\n",
              "        vertical-align: middle;\n",
              "    }\n",
              "\n",
              "    .dataframe tbody tr th {\n",
              "        vertical-align: top;\n",
              "    }\n",
              "\n",
              "    .dataframe thead th {\n",
              "        text-align: right;\n",
              "    }\n",
              "</style>\n",
              "<table border=\"1\" class=\"dataframe\">\n",
              "  <thead>\n",
              "    <tr style=\"text-align: right;\">\n",
              "      <th>Тип страхования</th>\n",
              "      <th>полное</th>\n",
              "      <th>частичное</th>\n",
              "    </tr>\n",
              "    <tr>\n",
              "      <th>Марка автомобиля</th>\n",
              "      <th></th>\n",
              "      <th></th>\n",
              "    </tr>\n",
              "  </thead>\n",
              "  <tbody>\n",
              "    <tr>\n",
              "      <th>Chevrolet NIVA</th>\n",
              "      <td>244576.028571</td>\n",
              "      <td>128491.475</td>\n",
              "    </tr>\n",
              "    <tr>\n",
              "      <th>Datsun on-DO</th>\n",
              "      <td>120408.4</td>\n",
              "      <td>25000</td>\n",
              "    </tr>\n",
              "    <tr>\n",
              "      <th>Hyundai Creta</th>\n",
              "      <td>597430.166667</td>\n",
              "      <td>468619.57</td>\n",
              "    </tr>\n",
              "    <tr>\n",
              "      <th>Hyundai Solaris</th>\n",
              "      <td>155870</td>\n",
              "      <td>137860.609524</td>\n",
              "    </tr>\n",
              "    <tr>\n",
              "      <th>KIA Rio</th>\n",
              "      <td>217259.657143</td>\n",
              "      <td>184104.29</td>\n",
              "    </tr>\n",
              "    <tr>\n",
              "      <th>KIA Sportage</th>\n",
              "      <td>686017.65</td>\n",
              "      <td>462098.76</td>\n",
              "    </tr>\n",
              "    <tr>\n",
              "      <th>Lada 4x4</th>\n",
              "      <td>190309.5</td>\n",
              "      <td>81402.9444444</td>\n",
              "    </tr>\n",
              "    <tr>\n",
              "      <th>Lada Granta</th>\n",
              "      <td>95806.6</td>\n",
              "      <td>105066.825</td>\n",
              "    </tr>\n",
              "    <tr>\n",
              "      <th>Lada Kalina</th>\n",
              "      <td>225773.6</td>\n",
              "      <td>53523.9</td>\n",
              "    </tr>\n",
              "    <tr>\n",
              "      <th>Lada Largus</th>\n",
              "      <td>90406.6</td>\n",
              "      <td>140043.2</td>\n",
              "    </tr>\n",
              "    <tr>\n",
              "      <th>Lada Vesta</th>\n",
              "      <td>243804.85</td>\n",
              "      <td>184507.690909</td>\n",
              "    </tr>\n",
              "    <tr>\n",
              "      <th>Lada X-Ray</th>\n",
              "      <td>142922.3</td>\n",
              "      <td>166652.04</td>\n",
              "    </tr>\n",
              "    <tr>\n",
              "      <th>Mazda CX-5</th>\n",
              "      <td>702828.95</td>\n",
              "      <td>nan</td>\n",
              "    </tr>\n",
              "    <tr>\n",
              "      <th>Nissan Qashqai</th>\n",
              "      <td>nan</td>\n",
              "      <td>504177.95</td>\n",
              "    </tr>\n",
              "    <tr>\n",
              "      <th>Nissan X-Trail</th>\n",
              "      <td>424927.7</td>\n",
              "      <td>512893</td>\n",
              "    </tr>\n",
              "    <tr>\n",
              "      <th>Renault Duster</th>\n",
              "      <td>175344.6</td>\n",
              "      <td>191712.033333</td>\n",
              "    </tr>\n",
              "    <tr>\n",
              "      <th>Renault Kaptur</th>\n",
              "      <td>750000</td>\n",
              "      <td>177553.225</td>\n",
              "    </tr>\n",
              "    <tr>\n",
              "      <th>Renault Logan</th>\n",
              "      <td>85802.2333333</td>\n",
              "      <td>132129.2</td>\n",
              "    </tr>\n",
              "    <tr>\n",
              "      <th>Renault Sandero</th>\n",
              "      <td>54265.4</td>\n",
              "      <td>205006.48</td>\n",
              "    </tr>\n",
              "    <tr>\n",
              "      <th>Skoda Octavia A7</th>\n",
              "      <td>nan</td>\n",
              "      <td>290692.875</td>\n",
              "    </tr>\n",
              "    <tr>\n",
              "      <th>Skoda Rapid</th>\n",
              "      <td>97867.05</td>\n",
              "      <td>216664.7</td>\n",
              "    </tr>\n",
              "    <tr>\n",
              "      <th>Toyota Camry</th>\n",
              "      <td>580013.45</td>\n",
              "      <td>771062.475</td>\n",
              "    </tr>\n",
              "    <tr>\n",
              "      <th>Toyota RAV 4</th>\n",
              "      <td>427353.266667</td>\n",
              "      <td>794834.2</td>\n",
              "    </tr>\n",
              "    <tr>\n",
              "      <th>VW Polo</th>\n",
              "      <td>174475.6</td>\n",
              "      <td>146516.911111</td>\n",
              "    </tr>\n",
              "    <tr>\n",
              "      <th>VW Tiguan</th>\n",
              "      <td>495716.58</td>\n",
              "      <td>541652.066667</td>\n",
              "    </tr>\n",
              "  </tbody>\n",
              "</table>\n",
              "</div>"
            ],
            "text/plain": [
              "Тип страхования         полное     частичное\n",
              "Марка автомобиля                            \n",
              "Chevrolet NIVA   244576.028571    128491.475\n",
              "Datsun on-DO          120408.4         25000\n",
              "Hyundai Creta    597430.166667     468619.57\n",
              "Hyundai Solaris         155870 137860.609524\n",
              "KIA Rio          217259.657143     184104.29\n",
              "KIA Sportage         686017.65     462098.76\n",
              "Lada 4x4              190309.5 81402.9444444\n",
              "Lada Granta            95806.6    105066.825\n",
              "Lada Kalina           225773.6       53523.9\n",
              "Lada Largus            90406.6      140043.2\n",
              "Lada Vesta           243804.85 184507.690909\n",
              "Lada X-Ray            142922.3     166652.04\n",
              "Mazda CX-5           702828.95           nan\n",
              "Nissan Qashqai             nan     504177.95\n",
              "Nissan X-Trail        424927.7        512893\n",
              "Renault Duster        175344.6 191712.033333\n",
              "Renault Kaptur          750000    177553.225\n",
              "Renault Logan    85802.2333333      132129.2\n",
              "Renault Sandero        54265.4     205006.48\n",
              "Skoda Octavia A7           nan    290692.875\n",
              "Skoda Rapid           97867.05      216664.7\n",
              "Toyota Camry         580013.45    771062.475\n",
              "Toyota RAV 4     427353.266667      794834.2\n",
              "VW Polo               174475.6 146516.911111\n",
              "VW Tiguan            495716.58 541652.066667"
            ]
          },
          "execution_count": 37,
          "metadata": {},
          "output_type": "execute_result"
        }
      ],
      "source": [
        "df_cut = df.drop(df[df['Крупное ДТП'] == 0].index);\n",
        "df_pt_svts = pd.pivot_table(df_cut,\n",
        "                            index = 'Марка автомобиля',\n",
        "                            values = 'Выплата, руб.',\n",
        "                            columns = 'Тип страхования',\n",
        "                            aggfunc = np.mean\n",
        "                           );\n",
        "pd.set_option('display.float_format', '{:.12g}'.format)\n",
        "df_pt_svts"
      ]
    },
    {
      "cell_type": "markdown",
      "metadata": {
        "id": "ZG20_uGBH8IV"
      },
      "source": [
        "Средняя выплата по угону/ДТП без восстановления авто между клиентами с полным и частичным тарифами на страхование\n",
        "\n",
        "---\n",
        "\n"
      ]
    },
    {
      "cell_type": "code",
      "execution_count": null,
      "metadata": {
        "colab": {
          "base_uri": "https://localhost:8080/",
          "height": 696
        },
        "id": "QGNWAz8jH-cI",
        "outputId": "d628c67b-81de-4d7b-e8a9-f09ebdf7dd90"
      },
      "outputs": [
        {
          "data": {
            "text/html": [
              "<div>\n",
              "<style scoped>\n",
              "    .dataframe tbody tr th:only-of-type {\n",
              "        vertical-align: middle;\n",
              "    }\n",
              "\n",
              "    .dataframe tbody tr th {\n",
              "        vertical-align: top;\n",
              "    }\n",
              "\n",
              "    .dataframe thead th {\n",
              "        text-align: right;\n",
              "    }\n",
              "</style>\n",
              "<table border=\"1\" class=\"dataframe\">\n",
              "  <thead>\n",
              "    <tr style=\"text-align: right;\">\n",
              "      <th>Тип страхования</th>\n",
              "      <th>полное</th>\n",
              "      <th>частичное</th>\n",
              "    </tr>\n",
              "    <tr>\n",
              "      <th>Марка автомобиля</th>\n",
              "      <th></th>\n",
              "      <th></th>\n",
              "    </tr>\n",
              "  </thead>\n",
              "  <tbody>\n",
              "    <tr>\n",
              "      <th>Chevrolet NIVA</th>\n",
              "      <td>1605334.2</td>\n",
              "      <td>nan</td>\n",
              "    </tr>\n",
              "    <tr>\n",
              "      <th>Datsun on-DO</th>\n",
              "      <td>nan</td>\n",
              "      <td>0</td>\n",
              "    </tr>\n",
              "    <tr>\n",
              "      <th>Hyundai Creta</th>\n",
              "      <td>nan</td>\n",
              "      <td>0</td>\n",
              "    </tr>\n",
              "    <tr>\n",
              "      <th>Hyundai Solaris</th>\n",
              "      <td>1523003.7</td>\n",
              "      <td>0</td>\n",
              "    </tr>\n",
              "    <tr>\n",
              "      <th>KIA Rio</th>\n",
              "      <td>1584262.7</td>\n",
              "      <td>0</td>\n",
              "    </tr>\n",
              "    <tr>\n",
              "      <th>KIA Sportage</th>\n",
              "      <td>nan</td>\n",
              "      <td>0</td>\n",
              "    </tr>\n",
              "    <tr>\n",
              "      <th>Lada Granta</th>\n",
              "      <td>963955.1</td>\n",
              "      <td>0</td>\n",
              "    </tr>\n",
              "    <tr>\n",
              "      <th>Lada Kalina</th>\n",
              "      <td>nan</td>\n",
              "      <td>0</td>\n",
              "    </tr>\n",
              "    <tr>\n",
              "      <th>Lada Largus</th>\n",
              "      <td>1124268.4</td>\n",
              "      <td>0</td>\n",
              "    </tr>\n",
              "    <tr>\n",
              "      <th>Lada Vesta</th>\n",
              "      <td>1434229.25</td>\n",
              "      <td>0</td>\n",
              "    </tr>\n",
              "    <tr>\n",
              "      <th>Lada X-Ray</th>\n",
              "      <td>1630641.1</td>\n",
              "      <td>0</td>\n",
              "    </tr>\n",
              "    <tr>\n",
              "      <th>Mazda CX-5</th>\n",
              "      <td>2268504.4</td>\n",
              "      <td>nan</td>\n",
              "    </tr>\n",
              "    <tr>\n",
              "      <th>Nissan X-Trail</th>\n",
              "      <td>nan</td>\n",
              "      <td>0</td>\n",
              "    </tr>\n",
              "    <tr>\n",
              "      <th>Renault Duster</th>\n",
              "      <td>1424544.2</td>\n",
              "      <td>nan</td>\n",
              "    </tr>\n",
              "    <tr>\n",
              "      <th>Renault Logan</th>\n",
              "      <td>nan</td>\n",
              "      <td>0</td>\n",
              "    </tr>\n",
              "    <tr>\n",
              "      <th>Renault Sandero</th>\n",
              "      <td>1515185.7</td>\n",
              "      <td>0</td>\n",
              "    </tr>\n",
              "    <tr>\n",
              "      <th>Skoda Octavia A7</th>\n",
              "      <td>1848006.7</td>\n",
              "      <td>0</td>\n",
              "    </tr>\n",
              "    <tr>\n",
              "      <th>Toyota RAV 4</th>\n",
              "      <td>2455425.2</td>\n",
              "      <td>0</td>\n",
              "    </tr>\n",
              "    <tr>\n",
              "      <th>VW Polo</th>\n",
              "      <td>nan</td>\n",
              "      <td>0</td>\n",
              "    </tr>\n",
              "    <tr>\n",
              "      <th>VW Tiguan</th>\n",
              "      <td>nan</td>\n",
              "      <td>0</td>\n",
              "    </tr>\n",
              "  </tbody>\n",
              "</table>\n",
              "</div>"
            ],
            "text/plain": [
              "Тип страхования      полное  частичное\n",
              "Марка автомобиля                      \n",
              "Chevrolet NIVA    1605334.2        nan\n",
              "Datsun on-DO            nan          0\n",
              "Hyundai Creta           nan          0\n",
              "Hyundai Solaris   1523003.7          0\n",
              "KIA Rio           1584262.7          0\n",
              "KIA Sportage            nan          0\n",
              "Lada Granta        963955.1          0\n",
              "Lada Kalina             nan          0\n",
              "Lada Largus       1124268.4          0\n",
              "Lada Vesta       1434229.25          0\n",
              "Lada X-Ray        1630641.1          0\n",
              "Mazda CX-5        2268504.4        nan\n",
              "Nissan X-Trail          nan          0\n",
              "Renault Duster    1424544.2        nan\n",
              "Renault Logan           nan          0\n",
              "Renault Sandero   1515185.7          0\n",
              "Skoda Octavia A7  1848006.7          0\n",
              "Toyota RAV 4      2455425.2          0\n",
              "VW Polo                 nan          0\n",
              "VW Tiguan               nan          0"
            ]
          },
          "execution_count": 38,
          "metadata": {},
          "output_type": "execute_result"
        }
      ],
      "source": [
        "df_cut = df.drop(df[df['Угон, ДТП без востановления авто'] == 0].index);\n",
        "df_pt_svts = pd.pivot_table(df_cut,\n",
        "                            index = 'Марка автомобиля',\n",
        "                            values = 'Выплата, руб.',\n",
        "                            columns = 'Тип страхования',\n",
        "                            aggfunc = np.mean\n",
        "                           );\n",
        "pd.set_option('display.float_format', '{:.12g}'.format)\n",
        "df_pt_svts"
      ]
    },
    {
      "cell_type": "markdown",
      "metadata": {
        "id": "X6LoyOmldyiQ"
      },
      "source": [
        "**VaR, ES (легкое ДТП)**"
      ]
    },
    {
      "cell_type": "code",
      "execution_count": null,
      "metadata": {
        "colab": {
          "base_uri": "https://localhost:8080/",
          "height": 369
        },
        "id": "K8bUM9K4d2Ty",
        "outputId": "5a30ca85-9d5b-4cfa-b404-15318f580bbc"
      },
      "outputs": [
        {
          "data": {
            "image/png": "[encoded data removed]",
            "text/plain": [
              "<Figure size 360x360 with 1 Axes>"
            ]
          },
          "metadata": {
            "needs_background": "light"
          },
          "output_type": "display_data"
        }
      ],
      "source": [
        "df_cut = df.drop(df[df['Легкое ДТП'] == 0].index);\n",
        "x = pd.Series(df_cut['Выплата, руб.'], name = \"Выплата, руб.\");\n",
        "sns.displot(x, kde = True, color='blue');"
      ]
    },
    {
      "cell_type": "markdown",
      "metadata": {
        "id": "K9FNYLHBxeBE"
      },
      "source": [
        "Выплата по легкому ДТП имеет экспоненциальное распределение, поэтому расчитаем VaR, используя набор данных, распределенных по экспоненциальному закону"
      ]
    },
    {
      "cell_type": "code",
      "execution_count": null,
      "metadata": {
        "colab": {
          "base_uri": "https://localhost:8080/"
        },
        "id": "JQJJA6C8zM_X",
        "outputId": "e6821a6d-4dac-4421-ae67-d5acb72073d8"
      },
      "outputs": [
        {
          "name": "stdout",
          "output_type": "stream",
          "text": [
            "МО: 55435.002\n",
            "СКО: 57806.201\n"
          ]
        }
      ],
      "source": [
        "mu = np.mean(x);\n",
        "std_dev = np.std(x);\n",
        "\n",
        "print(f\"МО: {round(mu, 3)}\\nСКО: {round(std_dev, 3)}\");\n",
        "\n",
        "# from scipy.stats import expon;\n",
        "# VaR_95 = round(expon.ppf(1 - 0.95, mu, std_dev), 3);\n",
        "# VaR_95"
      ]
    },
    {
      "cell_type": "markdown",
      "metadata": {
        "id": "mqk9zMzs7w7f"
      },
      "source": [
        "**VaR (95%)**"
      ]
    },
    {
      "cell_type": "code",
      "execution_count": null,
      "metadata": {
        "colab": {
          "base_uri": "https://localhost:8080/"
        },
        "id": "sV421sZpau5J",
        "outputId": "843f324b-1867-4994-f78d-66a38b6e70b3"
      },
      "outputs": [
        {
          "name": "stdout",
          "output_type": "stream",
          "text": [
            "VaR_0,95 = 165908.52\n"
          ]
        }
      ],
      "source": [
        "VaR_95 = round(np.quantile(x, 0.95), 3);\n",
        "print(f\"VaR_0,95 = {VaR_95}\");"
      ]
    },
    {
      "cell_type": "markdown",
      "metadata": {
        "id": "tQ5ZEGV-_vPM"
      },
      "source": [
        "Величина, которую не превысит выплата по легкому ДТП с вероятностью 95%, составляет 165908,5 руб., т.е. страховщику необходимо резервировать средства в размере 165908,5 руб. для того, чтобы покрыть среднестатистический убыток при наступлении страховых случаев (в данном случае - легкого ДТП) и сформировать страховые резервы"
      ]
    },
    {
      "cell_type": "markdown",
      "metadata": {
        "id": "lBXZM7wPXdgA"
      },
      "source": [
        "**ES (95%)**"
      ]
    },
    {
      "cell_type": "code",
      "execution_count": null,
      "metadata": {
        "colab": {
          "base_uri": "https://localhost:8080/"
        },
        "id": "5qTo53zsXf80",
        "outputId": "eef552f0-216c-4e7b-855a-c643f9876ca9"
      },
      "outputs": [
        {
          "name": "stdout",
          "output_type": "stream",
          "text": [
            "CVaR_0,95 = 231740.323\n"
          ]
        }
      ],
      "source": [
        "# tail_loss = expon.expect(lambda z: z, loc = mu, scale = std_dev, lb = VaR_95);\n",
        "# ES_95 = (1 / (1 - 0.95)) * tail_loss;\n",
        "# ES_95\n",
        "\n",
        "CVaR_95 = round(x[x > VaR_95].mean(), 3);\n",
        "print(f\"CVaR_0,95 = {CVaR_95}\");"
      ]
    },
    {
      "cell_type": "markdown",
      "metadata": {
        "id": "KpkZ37iuBa3v"
      },
      "source": [
        "Величина возможного ожидаемого убытка страховщика из-за выплат по легкому ДТП в 5% случаев может составлять в среднем 231740,3 руб., т.е. страховщику необходимо резервировать средства в размере 231740,3 руб. для покрытия случайных отклонений от среднестатистического убытка от наступления страховых случаев (легкого ДТП) (включая сам среднестатистический убыток) и формирования страховых резервов"
      ]
    },
    {
      "cell_type": "markdown",
      "metadata": {
        "id": "b9nHH-e-F76B"
      },
      "source": [
        "**Рисковая надбавка в случае легкого ДТП**"
      ]
    },
    {
      "cell_type": "code",
      "execution_count": null,
      "metadata": {
        "colab": {
          "base_uri": "https://localhost:8080/"
        },
        "id": "wdwP1TzcGP8x",
        "outputId": "19b15aa7-09a5-4962-abdf-3bf8749a2aa4"
      },
      "outputs": [
        {
          "name": "stdout",
          "output_type": "stream",
          "text": [
            "Величина рисковой надбавки в случае легкого ДТП составит 231740.323 - 165908.52 = 65831.803 руб.\n"
          ]
        }
      ],
      "source": [
        "print(f\"Величина рисковой надбавки в случае легкого ДТП составит {CVaR_95} - {VaR_95} = {round(CVaR_95 - VaR_95, 3)} руб.\")"
      ]
    },
    {
      "cell_type": "markdown",
      "metadata": {
        "id": "I-qKdqpEjMf9"
      },
      "source": [
        "*Проверка гипотезы о зависимости величины, которую не превысит выплата по легкому ДТП с вероятностью 95%, от пола:*"
      ]
    },
    {
      "cell_type": "code",
      "execution_count": null,
      "metadata": {
        "colab": {
          "base_uri": "https://localhost:8080/"
        },
        "id": "hsG2rtJ41lxu",
        "outputId": "d60c397b-5490-4a86-ff06-65a7b53fa578"
      },
      "outputs": [
        {
          "name": "stdout",
          "output_type": "stream",
          "text": [
            "МО жен = 53520.663\n",
            "МО муж = 56689.28\n"
          ]
        }
      ],
      "source": [
        "df_cut = df.drop(df[df['Легкое ДТП'] == 0].index);\n",
        "new_df = pd.DataFrame([df_cut['Пол'], df_cut['Выплата, руб.']]).T;\n",
        "\n",
        "mu_m = new_df['Выплата, руб.'][new_df['Пол'] == \"муж\"].mean();\n",
        "lmbd_m = 1 / mu_m;\n",
        "\n",
        "mu_w = new_df['Выплата, руб.'][new_df['Пол'] == \"жен\"].mean();\n",
        "lmbd_w = 1 / mu_w;\n",
        "\n",
        "print(f\"МО жен = {round(mu_w, 3)}\\nМО муж = {round(mu_m, 3)}\");"
      ]
    },
    {
      "cell_type": "code",
      "execution_count": null,
      "metadata": {
        "id": "OntBiTmtinl_"
      },
      "outputs": [],
      "source": [
        "import random as rnd"
      ]
    },
    {
      "cell_type": "code",
      "execution_count": null,
      "metadata": {
        "colab": {
          "base_uri": "https://localhost:8080/",
          "height": 470
        },
        "id": "1dXrfm8HjUdF",
        "outputId": "dd3296ca-954b-4cda-f3c3-56eb81786d60"
      },
      "outputs": [
        {
          "name": "stderr",
          "output_type": "stream",
          "text": [
            "/usr/local/lib/python3.7/dist-packages/ipykernel_launcher.py:4: DeprecationWarning: The default dtype for empty Series will be 'object' instead of 'float64' in a future version. Specify a dtype explicitly to silence this warning.\n",
            "  after removing the cwd from sys.path.\n"
          ]
        },
        {
          "data": {
            "text/html": [
              "<div>\n",
              "<style scoped>\n",
              "    .dataframe tbody tr th:only-of-type {\n",
              "        vertical-align: middle;\n",
              "    }\n",
              "\n",
              "    .dataframe tbody tr th {\n",
              "        vertical-align: top;\n",
              "    }\n",
              "\n",
              "    .dataframe thead th {\n",
              "        text-align: right;\n",
              "    }\n",
              "</style>\n",
              "<table border=\"1\" class=\"dataframe\">\n",
              "  <thead>\n",
              "    <tr style=\"text-align: right;\">\n",
              "      <th></th>\n",
              "      <th>жен</th>\n",
              "      <th>муж</th>\n",
              "      <th>жен &gt; муж</th>\n",
              "    </tr>\n",
              "  </thead>\n",
              "  <tbody>\n",
              "    <tr>\n",
              "      <th>0</th>\n",
              "      <td>12618.3301293</td>\n",
              "      <td>26630.1533045</td>\n",
              "      <td>0</td>\n",
              "    </tr>\n",
              "    <tr>\n",
              "      <th>1</th>\n",
              "      <td>20992.718197</td>\n",
              "      <td>85540.1113701</td>\n",
              "      <td>0</td>\n",
              "    </tr>\n",
              "    <tr>\n",
              "      <th>2</th>\n",
              "      <td>8611.79784978</td>\n",
              "      <td>44884.0397386</td>\n",
              "      <td>0</td>\n",
              "    </tr>\n",
              "    <tr>\n",
              "      <th>3</th>\n",
              "      <td>14477.4698769</td>\n",
              "      <td>221041.405933</td>\n",
              "      <td>0</td>\n",
              "    </tr>\n",
              "    <tr>\n",
              "      <th>4</th>\n",
              "      <td>70758.4810469</td>\n",
              "      <td>12779.0664632</td>\n",
              "      <td>1</td>\n",
              "    </tr>\n",
              "    <tr>\n",
              "      <th>...</th>\n",
              "      <td>...</td>\n",
              "      <td>...</td>\n",
              "      <td>...</td>\n",
              "    </tr>\n",
              "    <tr>\n",
              "      <th>1995</th>\n",
              "      <td>7297.73639352</td>\n",
              "      <td>14916.3698862</td>\n",
              "      <td>0</td>\n",
              "    </tr>\n",
              "    <tr>\n",
              "      <th>1996</th>\n",
              "      <td>45395.6053228</td>\n",
              "      <td>32220.9355937</td>\n",
              "      <td>1</td>\n",
              "    </tr>\n",
              "    <tr>\n",
              "      <th>1997</th>\n",
              "      <td>653.763848442</td>\n",
              "      <td>4393.37525654</td>\n",
              "      <td>0</td>\n",
              "    </tr>\n",
              "    <tr>\n",
              "      <th>1998</th>\n",
              "      <td>84598.757191</td>\n",
              "      <td>23167.7903423</td>\n",
              "      <td>1</td>\n",
              "    </tr>\n",
              "    <tr>\n",
              "      <th>1999</th>\n",
              "      <td>23101.3352517</td>\n",
              "      <td>25.9318181342</td>\n",
              "      <td>1</td>\n",
              "    </tr>\n",
              "  </tbody>\n",
              "</table>\n",
              "<p>2000 rows × 3 columns</p>\n",
              "</div>"
            ],
            "text/plain": [
              "               жен           муж  жен > муж\n",
              "0    12618.3301293 26630.1533045          0\n",
              "1     20992.718197 85540.1113701          0\n",
              "2    8611.79784978 44884.0397386          0\n",
              "3    14477.4698769 221041.405933          0\n",
              "4    70758.4810469 12779.0664632          1\n",
              "...            ...           ...        ...\n",
              "1995 7297.73639352 14916.3698862          0\n",
              "1996 45395.6053228 32220.9355937          1\n",
              "1997 653.763848442 4393.37525654          0\n",
              "1998  84598.757191 23167.7903423          1\n",
              "1999 23101.3352517 25.9318181342          1\n",
              "\n",
              "[2000 rows x 3 columns]"
            ]
          },
          "execution_count": 46,
          "metadata": {},
          "output_type": "execute_result"
        }
      ],
      "source": [
        "rand_nums = [rnd.expovariate(lambd = lmbd_w) for i in range(2000)];\n",
        "experiment_gender = pd.DataFrame(rand_nums, columns = ['жен']);\n",
        "experiment_gender['муж'] = [rnd.expovariate(lambd = lmbd_m) for i in range(2000)];\n",
        "experiment_gender['жен > муж'] = pd.Series();\n",
        "for i in range(2000):\n",
        "  experiment_gender['жен > муж'][i] = np.where(experiment_gender['жен'][i] > experiment_gender['муж'][i], 1, 0);\n",
        "experiment_gender"
      ]
    },
    {
      "cell_type": "code",
      "execution_count": null,
      "metadata": {
        "colab": {
          "base_uri": "https://localhost:8080/"
        },
        "id": "kUBGQsfXEU0E",
        "outputId": "b457fb9e-fb46-4306-d7bc-04920a6759d7"
      },
      "outputs": [
        {
          "name": "stdout",
          "output_type": "stream",
          "text": [
            "Количество случаев для женщин: 937\n",
            "Количество случаев для мужчин: 1063\n"
          ]
        }
      ],
      "source": [
        "kol_w = experiment_gender['жен > муж'].sum();\n",
        "print(f\"Количество случаев для женщин: {int(kol_w)}\\nКоличество случаев для мужчин: {int(2000 - kol_w)}\");"
      ]
    },
    {
      "cell_type": "markdown",
      "metadata": {
        "id": "JOsXkIDwFBLm"
      },
      "source": [
        "Если перезапускать два предыдущих блока кода по новой, будем получать новые наборы из двух тысяч экспоненциально распределенных чисел, однако конечный результат меняться не будет: соотношение случаев для женщин и мужчин всегда равно примерно 50/50"
      ]
    },
    {
      "cell_type": "markdown",
      "metadata": {
        "id": "5dNoIYq7Ji6-"
      },
      "source": [
        "*Проверка гипотезы о зависимости величины, которую не превысит выплата по легкому ДТП с вероятностью 95%, от типа страхования (частичное/полное):*"
      ]
    },
    {
      "cell_type": "code",
      "execution_count": null,
      "metadata": {
        "colab": {
          "base_uri": "https://localhost:8080/"
        },
        "id": "d0iRB4ETV_GS",
        "outputId": "6061a330-2b62-49cc-e9fc-c67943e4f27c"
      },
      "outputs": [
        {
          "name": "stdout",
          "output_type": "stream",
          "text": [
            "МО частичное = 55285.024\n",
            "МО полное = 55801.442\n"
          ]
        }
      ],
      "source": [
        "df_cut = df.drop(df[df['Легкое ДТП'] == 0].index);\n",
        "new_df = pd.DataFrame([df_cut['Тип страхования'], df_cut['Выплата, руб.']]).T;\n",
        "new_df\n",
        "\n",
        "mu_ps = new_df['Выплата, руб.'][new_df['Тип страхования'] == \"частичное\"].mean();\n",
        "lmbd_ps = 1 / mu_ps;\n",
        "\n",
        "mu_fs = new_df['Выплата, руб.'][new_df['Тип страхования'] == \"полное\"].mean();\n",
        "lmbd_fs = 1 / mu_fs;\n",
        "\n",
        "print(f\"МО частичное = {round(mu_ps, 3)}\\nМО полное = {round(mu_fs, 3)}\");"
      ]
    },
    {
      "cell_type": "code",
      "execution_count": null,
      "metadata": {
        "colab": {
          "base_uri": "https://localhost:8080/",
          "height": 470
        },
        "id": "qD3I4HKRX4_T",
        "outputId": "65c906bf-d574-4df1-b695-1f6b3d9eebed"
      },
      "outputs": [
        {
          "name": "stderr",
          "output_type": "stream",
          "text": [
            "/usr/local/lib/python3.7/dist-packages/ipykernel_launcher.py:4: DeprecationWarning: The default dtype for empty Series will be 'object' instead of 'float64' in a future version. Specify a dtype explicitly to silence this warning.\n",
            "  after removing the cwd from sys.path.\n"
          ]
        },
        {
          "data": {
            "text/html": [
              "<div>\n",
              "<style scoped>\n",
              "    .dataframe tbody tr th:only-of-type {\n",
              "        vertical-align: middle;\n",
              "    }\n",
              "\n",
              "    .dataframe tbody tr th {\n",
              "        vertical-align: top;\n",
              "    }\n",
              "\n",
              "    .dataframe thead th {\n",
              "        text-align: right;\n",
              "    }\n",
              "</style>\n",
              "<table border=\"1\" class=\"dataframe\">\n",
              "  <thead>\n",
              "    <tr style=\"text-align: right;\">\n",
              "      <th></th>\n",
              "      <th>частичное</th>\n",
              "      <th>полное</th>\n",
              "      <th>частичное &gt; полное</th>\n",
              "    </tr>\n",
              "  </thead>\n",
              "  <tbody>\n",
              "    <tr>\n",
              "      <th>0</th>\n",
              "      <td>16781.464678</td>\n",
              "      <td>5701.40663321</td>\n",
              "      <td>1</td>\n",
              "    </tr>\n",
              "    <tr>\n",
              "      <th>1</th>\n",
              "      <td>59194.314777</td>\n",
              "      <td>4487.99197295</td>\n",
              "      <td>1</td>\n",
              "    </tr>\n",
              "    <tr>\n",
              "      <th>2</th>\n",
              "      <td>5476.39583579</td>\n",
              "      <td>165388.173862</td>\n",
              "      <td>0</td>\n",
              "    </tr>\n",
              "    <tr>\n",
              "      <th>3</th>\n",
              "      <td>14708.4229443</td>\n",
              "      <td>12811.7009784</td>\n",
              "      <td>1</td>\n",
              "    </tr>\n",
              "    <tr>\n",
              "      <th>4</th>\n",
              "      <td>70951.9088241</td>\n",
              "      <td>26686.9422695</td>\n",
              "      <td>1</td>\n",
              "    </tr>\n",
              "    <tr>\n",
              "      <th>...</th>\n",
              "      <td>...</td>\n",
              "      <td>...</td>\n",
              "      <td>...</td>\n",
              "    </tr>\n",
              "    <tr>\n",
              "      <th>1995</th>\n",
              "      <td>48740.7872087</td>\n",
              "      <td>259696.590489</td>\n",
              "      <td>0</td>\n",
              "    </tr>\n",
              "    <tr>\n",
              "      <th>1996</th>\n",
              "      <td>36490.4924779</td>\n",
              "      <td>1337.03837642</td>\n",
              "      <td>1</td>\n",
              "    </tr>\n",
              "    <tr>\n",
              "      <th>1997</th>\n",
              "      <td>7391.04768103</td>\n",
              "      <td>275622.813276</td>\n",
              "      <td>0</td>\n",
              "    </tr>\n",
              "    <tr>\n",
              "      <th>1998</th>\n",
              "      <td>17241.0459813</td>\n",
              "      <td>227536.861143</td>\n",
              "      <td>0</td>\n",
              "    </tr>\n",
              "    <tr>\n",
              "      <th>1999</th>\n",
              "      <td>11324.6165208</td>\n",
              "      <td>36834.4213274</td>\n",
              "      <td>0</td>\n",
              "    </tr>\n",
              "  </tbody>\n",
              "</table>\n",
              "<p>2000 rows × 3 columns</p>\n",
              "</div>"
            ],
            "text/plain": [
              "         частичное        полное  частичное > полное\n",
              "0     16781.464678 5701.40663321                   1\n",
              "1     59194.314777 4487.99197295                   1\n",
              "2    5476.39583579 165388.173862                   0\n",
              "3    14708.4229443 12811.7009784                   1\n",
              "4    70951.9088241 26686.9422695                   1\n",
              "...            ...           ...                 ...\n",
              "1995 48740.7872087 259696.590489                   0\n",
              "1996 36490.4924779 1337.03837642                   1\n",
              "1997 7391.04768103 275622.813276                   0\n",
              "1998 17241.0459813 227536.861143                   0\n",
              "1999 11324.6165208 36834.4213274                   0\n",
              "\n",
              "[2000 rows x 3 columns]"
            ]
          },
          "execution_count": 49,
          "metadata": {},
          "output_type": "execute_result"
        }
      ],
      "source": [
        "rand_nums = [rnd.expovariate(lambd = lmbd_ps) for i in range(2000)];\n",
        "experiment_insurance = pd.DataFrame(rand_nums, columns = ['частичное']);\n",
        "experiment_insurance['полное'] = [rnd.expovariate(lambd = lmbd_fs) for i in range(2000)];\n",
        "experiment_insurance['частичное > полное'] = pd.Series();\n",
        "for i in range(2000):\n",
        "  experiment_insurance['частичное > полное'][i] = np.where(experiment_insurance['частичное'][i] > experiment_insurance['полное'][i], 1, 0);\n",
        "experiment_insurance"
      ]
    },
    {
      "cell_type": "code",
      "execution_count": null,
      "metadata": {
        "colab": {
          "base_uri": "https://localhost:8080/"
        },
        "id": "XYUfwTvOYv01",
        "outputId": "e2966179-802a-440b-923c-c783dcecdb5d"
      },
      "outputs": [
        {
          "name": "stdout",
          "output_type": "stream",
          "text": [
            "Количество случаев для частичного типа страхования: 985\n",
            "Количество случаев для полного типа страхования: 1015\n"
          ]
        }
      ],
      "source": [
        "kol_ps = experiment_insurance['частичное > полное'].sum();\n",
        "print(f\"Количество случаев для частичного типа страхования: {int(kol_ps)}\\nКоличество случаев для полного типа страхования: {int(2000 - kol_ps)}\");"
      ]
    },
    {
      "cell_type": "markdown",
      "metadata": {
        "id": "utrloWK8ZNIY"
      },
      "source": [
        "Если перезапускать два предыдущих блока кода по новой, будем получать новые наборы из двух тысяч экспоненциально распределенных чисел, однако конечный результат меняться не будет: соотношение случаев для частичного типа страхования и полного типа страхования всегда равно примерно 50/50"
      ]
    },
    {
      "cell_type": "markdown",
      "metadata": {
        "id": "B0JlwG32RfD-"
      },
      "source": [
        "**VaR, ES (крупное ДТП)**"
      ]
    },
    {
      "cell_type": "code",
      "execution_count": null,
      "metadata": {
        "colab": {
          "base_uri": "https://localhost:8080/",
          "height": 369
        },
        "id": "wciomNWYK4fv",
        "outputId": "1cafdf84-d5b0-44fc-a145-440193332e4d"
      },
      "outputs": [
        {
          "data": {
            "image/png": "[encoded data removed]",
            "text/plain": [
              "<Figure size 360x360 with 1 Axes>"
            ]
          },
          "metadata": {
            "needs_background": "light"
          },
          "output_type": "display_data"
        }
      ],
      "source": [
        "df_cut = df.drop(df[df['Крупное ДТП'] == 0].index);\n",
        "x = pd.Series(df_cut['Выплата, руб.'], name = \"Выплата, руб.\");\n",
        "sns.displot(x, kde = True, color = 'blue');"
      ]
    },
    {
      "cell_type": "markdown",
      "metadata": {
        "id": "wVM6PSvENQNf"
      },
      "source": [
        "Выплата по кпуному ДТП также имеет экспоненциальное распределение, поэтому проверять гипотезу о зависимости VaR от пола в данном случае не имеет смысла, так как результат будет аналогичен результату по легкому ДТП. В данном случае только проведем расчет величин VaR и ES с заданной вероятностью 95%"
      ]
    },
    {
      "cell_type": "code",
      "execution_count": null,
      "metadata": {
        "colab": {
          "base_uri": "https://localhost:8080/"
        },
        "id": "NRdWq41wRpMq",
        "outputId": "fe15ebc0-c0c2-47b5-b4df-d890d7301b67"
      },
      "outputs": [
        {
          "name": "stdout",
          "output_type": "stream",
          "text": [
            "МО: 239204.622\n",
            "СКО: 253767.615\n"
          ]
        }
      ],
      "source": [
        "mu = np.mean(x);\n",
        "std_dev = np.std(x);\n",
        "\n",
        "print(f\"МО: {round(mu, 3)}\\nСКО: {round(std_dev, 3)}\");"
      ]
    },
    {
      "cell_type": "markdown",
      "metadata": {
        "id": "YSJ8UyE--5JU"
      },
      "source": [
        "**VaR (95%)**"
      ]
    },
    {
      "cell_type": "code",
      "execution_count": null,
      "metadata": {
        "colab": {
          "base_uri": "https://localhost:8080/"
        },
        "id": "iXAQAMVS-4m3",
        "outputId": "8b8c3c09-2b29-4c3e-a820-abed94364802"
      },
      "outputs": [
        {
          "name": "stdout",
          "output_type": "stream",
          "text": [
            "VaR_0,95 = 792854.59\n"
          ]
        }
      ],
      "source": [
        "VaR_95 = round(np.quantile(x, 0.95), 3);\n",
        "print(f\"VaR_0,95 = {VaR_95}\");"
      ]
    },
    {
      "cell_type": "markdown",
      "metadata": {
        "id": "Pl7NIxSZDDEj"
      },
      "source": [
        "Величина, которую не превысит выплата по крупному ДТП с вероятностью 95%, составляет 792854,6 руб., т.е. страховщику необходимо резервировать средства в размере 792854,6 руб. для того, чтобы покрыть среднестатистический убыток при наступлении страховых случаев (в данном случае - крупного ДТП) и сформировать страховые резервы"
      ]
    },
    {
      "cell_type": "markdown",
      "metadata": {
        "id": "JMcBlAx__ZyX"
      },
      "source": [
        "**ES (95%)**"
      ]
    },
    {
      "cell_type": "code",
      "execution_count": null,
      "metadata": {
        "colab": {
          "base_uri": "https://localhost:8080/"
        },
        "id": "SXBlAu7X_acT",
        "outputId": "b1fdee81-1cae-4f76-d076-8e488243d36b"
      },
      "outputs": [
        {
          "name": "stdout",
          "output_type": "stream",
          "text": [
            "CVaR_0,95 = 1045214.1\n"
          ]
        }
      ],
      "source": [
        "CVaR_95 = round(x[x > VaR_95].mean(), 3);\n",
        "print(f\"CVaR_0,95 = {CVaR_95}\");"
      ]
    },
    {
      "cell_type": "markdown",
      "metadata": {
        "id": "hmMLLatyDUt1"
      },
      "source": [
        "Величина возможного ожидаемого убытка страховщика из-за выплат по крупному ДТП в 5% случаев может составлять в среднем 1045214,1 руб., т.е. страховщику необходимо резервировать средства в размере 1045214,1 руб. для покрытия случайных отклонений от среднестатистического убытка от наступления страховых случаев (крупного ДТП) (включая сам среднестатистический убыток) и формирования страховых резервов"
      ]
    },
    {
      "cell_type": "markdown",
      "metadata": {
        "id": "P30MPwkOGnD0"
      },
      "source": [
        "**Рисковая надбавка в случае крупного ДТП**"
      ]
    },
    {
      "cell_type": "code",
      "execution_count": null,
      "metadata": {
        "colab": {
          "base_uri": "https://localhost:8080/"
        },
        "id": "P15-dd9pGvfH",
        "outputId": "a3967f6c-a283-4dae-cc08-71f2b342e661"
      },
      "outputs": [
        {
          "name": "stdout",
          "output_type": "stream",
          "text": [
            "Величина рисковой надбавки в случае крупного ДТП составит 1045214.1 - 792854.59 = 252359.51 руб.\n"
          ]
        }
      ],
      "source": [
        "print(f\"Величина рисковой надбавки в случае крупного ДТП составит {CVaR_95} - {VaR_95} = {round(CVaR_95 - VaR_95, 3)} руб.\")"
      ]
    },
    {
      "cell_type": "markdown",
      "metadata": {
        "id": "G3mlNKVzhAuS"
      },
      "source": [
        "*Проверка гипотезы о зависимости величины, которую не превысит выплата по крупному ДТП с вероятностью 95%, от пола:*"
      ]
    },
    {
      "cell_type": "code",
      "execution_count": null,
      "metadata": {
        "colab": {
          "base_uri": "https://localhost:8080/"
        },
        "id": "kgGg0q-HhFFw",
        "outputId": "d9bbf599-2b6d-4802-8093-707dadc7ba37"
      },
      "outputs": [
        {
          "name": "stdout",
          "output_type": "stream",
          "text": [
            "МО жен = 239493.888\n",
            "МО муж = 239141.483\n"
          ]
        }
      ],
      "source": [
        "df_cut = df.drop(df[df['Крупное ДТП'] == 0].index);\n",
        "new_df = pd.DataFrame([df_cut['Пол'], df_cut['Выплата, руб.']]).T;\n",
        "\n",
        "mu_m = new_df['Выплата, руб.'][new_df['Пол'] == \"муж\"].mean();\n",
        "lmbd_m = 1 / mu_m;\n",
        "\n",
        "mu_w = new_df['Выплата, руб.'][new_df['Пол'] == \"жен\"].mean();\n",
        "lmbd_w = 1 / mu_w;\n",
        "\n",
        "print(f\"МО жен = {round(mu_w, 3)}\\nМО муж = {round(mu_m, 3)}\");"
      ]
    },
    {
      "cell_type": "code",
      "execution_count": null,
      "metadata": {
        "colab": {
          "base_uri": "https://localhost:8080/",
          "height": 470
        },
        "id": "afhNxJF3hT9V",
        "outputId": "376c23bd-d856-4883-ed38-64911f4310e4"
      },
      "outputs": [
        {
          "name": "stderr",
          "output_type": "stream",
          "text": [
            "/usr/local/lib/python3.7/dist-packages/ipykernel_launcher.py:4: DeprecationWarning: The default dtype for empty Series will be 'object' instead of 'float64' in a future version. Specify a dtype explicitly to silence this warning.\n",
            "  after removing the cwd from sys.path.\n"
          ]
        },
        {
          "data": {
            "text/html": [
              "<div>\n",
              "<style scoped>\n",
              "    .dataframe tbody tr th:only-of-type {\n",
              "        vertical-align: middle;\n",
              "    }\n",
              "\n",
              "    .dataframe tbody tr th {\n",
              "        vertical-align: top;\n",
              "    }\n",
              "\n",
              "    .dataframe thead th {\n",
              "        text-align: right;\n",
              "    }\n",
              "</style>\n",
              "<table border=\"1\" class=\"dataframe\">\n",
              "  <thead>\n",
              "    <tr style=\"text-align: right;\">\n",
              "      <th></th>\n",
              "      <th>жен</th>\n",
              "      <th>муж</th>\n",
              "      <th>жен &gt; муж</th>\n",
              "    </tr>\n",
              "  </thead>\n",
              "  <tbody>\n",
              "    <tr>\n",
              "      <th>0</th>\n",
              "      <td>261337.83146</td>\n",
              "      <td>88519.7356804</td>\n",
              "      <td>1</td>\n",
              "    </tr>\n",
              "    <tr>\n",
              "      <th>1</th>\n",
              "      <td>556086.119159</td>\n",
              "      <td>733995.3753</td>\n",
              "      <td>0</td>\n",
              "    </tr>\n",
              "    <tr>\n",
              "      <th>2</th>\n",
              "      <td>71397.1006608</td>\n",
              "      <td>58990.2187874</td>\n",
              "      <td>1</td>\n",
              "    </tr>\n",
              "    <tr>\n",
              "      <th>3</th>\n",
              "      <td>156083.08487</td>\n",
              "      <td>41538.7431675</td>\n",
              "      <td>1</td>\n",
              "    </tr>\n",
              "    <tr>\n",
              "      <th>4</th>\n",
              "      <td>417908.561426</td>\n",
              "      <td>235048.892296</td>\n",
              "      <td>1</td>\n",
              "    </tr>\n",
              "    <tr>\n",
              "      <th>...</th>\n",
              "      <td>...</td>\n",
              "      <td>...</td>\n",
              "      <td>...</td>\n",
              "    </tr>\n",
              "    <tr>\n",
              "      <th>1995</th>\n",
              "      <td>19368.6346067</td>\n",
              "      <td>14965.0153053</td>\n",
              "      <td>1</td>\n",
              "    </tr>\n",
              "    <tr>\n",
              "      <th>1996</th>\n",
              "      <td>8671.35725947</td>\n",
              "      <td>272642.654001</td>\n",
              "      <td>0</td>\n",
              "    </tr>\n",
              "    <tr>\n",
              "      <th>1997</th>\n",
              "      <td>292206.784968</td>\n",
              "      <td>106827.300894</td>\n",
              "      <td>1</td>\n",
              "    </tr>\n",
              "    <tr>\n",
              "      <th>1998</th>\n",
              "      <td>172991.793296</td>\n",
              "      <td>341850.341117</td>\n",
              "      <td>0</td>\n",
              "    </tr>\n",
              "    <tr>\n",
              "      <th>1999</th>\n",
              "      <td>274028.351598</td>\n",
              "      <td>63018.1636613</td>\n",
              "      <td>1</td>\n",
              "    </tr>\n",
              "  </tbody>\n",
              "</table>\n",
              "<p>2000 rows × 3 columns</p>\n",
              "</div>"
            ],
            "text/plain": [
              "               жен           муж  жен > муж\n",
              "0     261337.83146 88519.7356804          1\n",
              "1    556086.119159   733995.3753          0\n",
              "2    71397.1006608 58990.2187874          1\n",
              "3     156083.08487 41538.7431675          1\n",
              "4    417908.561426 235048.892296          1\n",
              "...            ...           ...        ...\n",
              "1995 19368.6346067 14965.0153053          1\n",
              "1996 8671.35725947 272642.654001          0\n",
              "1997 292206.784968 106827.300894          1\n",
              "1998 172991.793296 341850.341117          0\n",
              "1999 274028.351598 63018.1636613          1\n",
              "\n",
              "[2000 rows x 3 columns]"
            ]
          },
          "execution_count": 57,
          "metadata": {},
          "output_type": "execute_result"
        }
      ],
      "source": [
        "rand_nums = [rnd.expovariate(lambd = lmbd_w) for i in range(2000)];\n",
        "experiment_gender = pd.DataFrame(rand_nums, columns = ['жен']);\n",
        "experiment_gender['муж'] = [rnd.expovariate(lambd = lmbd_m) for i in range(2000)];\n",
        "experiment_gender['жен > муж'] = pd.Series();\n",
        "for i in range(2000):\n",
        "  experiment_gender['жен > муж'][i] = np.where(experiment_gender['жен'][i] > experiment_gender['муж'][i], 1, 0);\n",
        "experiment_gender"
      ]
    },
    {
      "cell_type": "code",
      "execution_count": null,
      "metadata": {
        "colab": {
          "base_uri": "https://localhost:8080/"
        },
        "id": "DPVIoaQ4hk3n",
        "outputId": "e26aac08-99e3-4ccb-8cef-dc650c9ecee9"
      },
      "outputs": [
        {
          "name": "stdout",
          "output_type": "stream",
          "text": [
            "Количество случаев для женщин: 1023\n",
            "Количество случаев для мужчин: 977\n"
          ]
        }
      ],
      "source": [
        "kol_w = experiment_gender['жен > муж'].sum();\n",
        "print(f\"Количество случаев для женщин: {int(kol_w)}\\nКоличество случаев для мужчин: {int(2000 - kol_w)}\");"
      ]
    },
    {
      "cell_type": "markdown",
      "metadata": {
        "id": "QqrP_VjDhyWl"
      },
      "source": [
        "Если перезапускать два предыдущих блока кода по новой, будем получать новые наборы из двух тысяч экспоненциально распределенных чисел, однако конечный результат меняться не будет: соотношение случаев для женщин и мужчин всегда равно примерно 50/50"
      ]
    },
    {
      "cell_type": "markdown",
      "metadata": {
        "id": "kwUyeudZd09C"
      },
      "source": [
        "*Проверка гипотезы о зависимости величины, которую не превысит выплата по крупному ДТП с вероятностью 95%, от типа страхования (частичное/полное):*"
      ]
    },
    {
      "cell_type": "code",
      "execution_count": null,
      "metadata": {
        "colab": {
          "base_uri": "https://localhost:8080/"
        },
        "id": "d4az00AvdiVe",
        "outputId": "63cb27fe-94c4-4f7d-994d-dfef7c0b94bb"
      },
      "outputs": [
        {
          "name": "stdout",
          "output_type": "stream",
          "text": [
            "МО частичное = 220224.116\n",
            "МО полное = 275776.816\n"
          ]
        }
      ],
      "source": [
        "df_cut = df.drop(df[df['Крупное ДТП'] == 0].index);\n",
        "new_df = pd.DataFrame([df_cut['Тип страхования'], df_cut['Выплата, руб.']]).T;\n",
        "\n",
        "mu_ps = new_df['Выплата, руб.'][new_df['Тип страхования'] == \"частичное\"].mean();\n",
        "lmbd_ps = 1 / mu_ps;\n",
        "\n",
        "mu_fs = new_df['Выплата, руб.'][new_df['Тип страхования'] == \"полное\"].mean();\n",
        "lmbd_fs = 1 / mu_fs;\n",
        "\n",
        "print(f\"МО частичное = {round(mu_ps, 3)}\\nМО полное = {round(mu_fs, 3)}\");"
      ]
    },
    {
      "cell_type": "code",
      "execution_count": null,
      "metadata": {
        "colab": {
          "base_uri": "https://localhost:8080/",
          "height": 470
        },
        "id": "uTbReOKndvkO",
        "outputId": "dd34769e-bcc7-468e-956d-6ec9f8c6cceb"
      },
      "outputs": [
        {
          "name": "stderr",
          "output_type": "stream",
          "text": [
            "/usr/local/lib/python3.7/dist-packages/ipykernel_launcher.py:4: DeprecationWarning: The default dtype for empty Series will be 'object' instead of 'float64' in a future version. Specify a dtype explicitly to silence this warning.\n",
            "  after removing the cwd from sys.path.\n"
          ]
        },
        {
          "data": {
            "text/html": [
              "<div>\n",
              "<style scoped>\n",
              "    .dataframe tbody tr th:only-of-type {\n",
              "        vertical-align: middle;\n",
              "    }\n",
              "\n",
              "    .dataframe tbody tr th {\n",
              "        vertical-align: top;\n",
              "    }\n",
              "\n",
              "    .dataframe thead th {\n",
              "        text-align: right;\n",
              "    }\n",
              "</style>\n",
              "<table border=\"1\" class=\"dataframe\">\n",
              "  <thead>\n",
              "    <tr style=\"text-align: right;\">\n",
              "      <th></th>\n",
              "      <th>частичное</th>\n",
              "      <th>полное</th>\n",
              "      <th>частичное &gt; полное</th>\n",
              "    </tr>\n",
              "  </thead>\n",
              "  <tbody>\n",
              "    <tr>\n",
              "      <th>0</th>\n",
              "      <td>205888.9259</td>\n",
              "      <td>125556.652053</td>\n",
              "      <td>1</td>\n",
              "    </tr>\n",
              "    <tr>\n",
              "      <th>1</th>\n",
              "      <td>138977.829668</td>\n",
              "      <td>464387.44693</td>\n",
              "      <td>0</td>\n",
              "    </tr>\n",
              "    <tr>\n",
              "      <th>2</th>\n",
              "      <td>133038.276629</td>\n",
              "      <td>794106.417349</td>\n",
              "      <td>0</td>\n",
              "    </tr>\n",
              "    <tr>\n",
              "      <th>3</th>\n",
              "      <td>21764.3731467</td>\n",
              "      <td>121185.22529</td>\n",
              "      <td>0</td>\n",
              "    </tr>\n",
              "    <tr>\n",
              "      <th>4</th>\n",
              "      <td>7054.35016014</td>\n",
              "      <td>40981.6423352</td>\n",
              "      <td>0</td>\n",
              "    </tr>\n",
              "    <tr>\n",
              "      <th>...</th>\n",
              "      <td>...</td>\n",
              "      <td>...</td>\n",
              "      <td>...</td>\n",
              "    </tr>\n",
              "    <tr>\n",
              "      <th>1995</th>\n",
              "      <td>172558.435776</td>\n",
              "      <td>194191.203404</td>\n",
              "      <td>0</td>\n",
              "    </tr>\n",
              "    <tr>\n",
              "      <th>1996</th>\n",
              "      <td>210675.909588</td>\n",
              "      <td>323335.410511</td>\n",
              "      <td>0</td>\n",
              "    </tr>\n",
              "    <tr>\n",
              "      <th>1997</th>\n",
              "      <td>58588.1341204</td>\n",
              "      <td>113634.044336</td>\n",
              "      <td>0</td>\n",
              "    </tr>\n",
              "    <tr>\n",
              "      <th>1998</th>\n",
              "      <td>31130.6062225</td>\n",
              "      <td>11504.290098</td>\n",
              "      <td>1</td>\n",
              "    </tr>\n",
              "    <tr>\n",
              "      <th>1999</th>\n",
              "      <td>509805.979726</td>\n",
              "      <td>201940.872546</td>\n",
              "      <td>1</td>\n",
              "    </tr>\n",
              "  </tbody>\n",
              "</table>\n",
              "<p>2000 rows × 3 columns</p>\n",
              "</div>"
            ],
            "text/plain": [
              "         частичное        полное  частичное > полное\n",
              "0      205888.9259 125556.652053                   1\n",
              "1    138977.829668  464387.44693                   0\n",
              "2    133038.276629 794106.417349                   0\n",
              "3    21764.3731467  121185.22529                   0\n",
              "4    7054.35016014 40981.6423352                   0\n",
              "...            ...           ...                 ...\n",
              "1995 172558.435776 194191.203404                   0\n",
              "1996 210675.909588 323335.410511                   0\n",
              "1997 58588.1341204 113634.044336                   0\n",
              "1998 31130.6062225  11504.290098                   1\n",
              "1999 509805.979726 201940.872546                   1\n",
              "\n",
              "[2000 rows x 3 columns]"
            ]
          },
          "execution_count": 60,
          "metadata": {},
          "output_type": "execute_result"
        }
      ],
      "source": [
        "rand_nums = [rnd.expovariate(lambd = lmbd_ps) for i in range(2000)];\n",
        "experiment_insurance = pd.DataFrame(rand_nums, columns = ['частичное']);\n",
        "experiment_insurance['полное'] = [rnd.expovariate(lambd = lmbd_fs) for i in range(2000)];\n",
        "experiment_insurance['частичное > полное'] = pd.Series();\n",
        "for i in range(2000):\n",
        "  experiment_insurance['частичное > полное'][i] = np.where(experiment_insurance['частичное'][i] > experiment_insurance['полное'][i], 1, 0);\n",
        "experiment_insurance"
      ]
    },
    {
      "cell_type": "code",
      "execution_count": null,
      "metadata": {
        "colab": {
          "base_uri": "https://localhost:8080/"
        },
        "id": "j9S5PeDEd632",
        "outputId": "6e72d980-b9cc-4167-9318-7a13288ca646"
      },
      "outputs": [
        {
          "name": "stdout",
          "output_type": "stream",
          "text": [
            "Количество случаев для частичного типа страхования: 895\n",
            "Количество случаев для полного типа страхования: 1105\n"
          ]
        }
      ],
      "source": [
        "kol_ps = experiment_insurance['частичное > полное'].sum();\n",
        "print(f\"Количество случаев для частичного типа страхования: {int(kol_ps)}\\nКоличество случаев для полного типа страхования: {int(2000 - kol_ps)}\");"
      ]
    },
    {
      "cell_type": "markdown",
      "metadata": {
        "id": "n8MzgJ3HeiXd"
      },
      "source": [
        "Если перезапускать два предыдущих блока кода по новой, будем получать новые наборы из двух тысяч экспоненциально распределенных чисел, однако конечный результат меняться не будет: соотношение случаев для частичного типа страхования и полного типа страхования всегда равно примерно 45/55. При крупном ДТП наиболее вероятен убыток в размере 792854,6 руб., если в данном случае был применен полный тип страхования, т.е. при крупном ДТП наблюдается слабая зависимость величины риска (убытка страховщика) от типа страхования: риск больше при полном типе страхования."
      ]
    },
    {
      "cell_type": "markdown",
      "metadata": {
        "id": "YvnFXk4MRjoe"
      },
      "source": [
        "**VaR, ES (угон, ДТП без восстановления авто)**"
      ]
    },
    {
      "cell_type": "code",
      "execution_count": null,
      "metadata": {
        "colab": {
          "base_uri": "https://localhost:8080/",
          "height": 369
        },
        "id": "pbGRntLxLld4",
        "outputId": "98132c8c-944e-440c-e8d8-48c95bf949c9"
      },
      "outputs": [
        {
          "data": {
            "image/png": "[encoded data removed]",
            "text/plain": [
              "<Figure size 360x360 with 1 Axes>"
            ]
          },
          "metadata": {
            "needs_background": "light"
          },
          "output_type": "display_data"
        }
      ],
      "source": [
        "df_cut = df.drop(df[df['Угон, ДТП без востановления авто'] == 0].index);\n",
        "x = pd.Series(df_cut['Выплата, руб.'], name = \"Выплата, руб.\");\n",
        "sns.displot(x, kde = True, color = 'blue');"
      ]
    },
    {
      "cell_type": "markdown",
      "metadata": {
        "id": "T2Pl8IxoNgI-"
      },
      "source": [
        "Выплата по угону, ДТП без восстановления авто также имеет экспоненциальное распределение, поэтому проверять гипотезу о зависимости VaR от пола в данном случае не имеет смысла, так как результат будет аналогичен результату по легкому ДТП. В данном случае только проведем расчет величин VaR и ES с заданной вероятностью 95%"
      ]
    },
    {
      "cell_type": "code",
      "execution_count": null,
      "metadata": {
        "colab": {
          "base_uri": "https://localhost:8080/"
        },
        "id": "ga_9eBs4RqDk",
        "outputId": "8c5b90ef-7c0c-4317-acac-2e563600e4a1"
      },
      "outputs": [
        {
          "name": "stdout",
          "output_type": "stream",
          "text": [
            "МО: 371385.245\n",
            "СКО: 689102.019\n"
          ]
        }
      ],
      "source": [
        "mu = np.mean(x);\n",
        "std_dev = np.std(x);\n",
        "\n",
        "print(f\"МО: {round(mu, 3)}\\nСКО: {round(std_dev, 3)}\");"
      ]
    },
    {
      "cell_type": "markdown",
      "metadata": {
        "id": "75IDFX9DDw5J"
      },
      "source": [
        "**VaR (95%)**"
      ]
    },
    {
      "cell_type": "code",
      "execution_count": null,
      "metadata": {
        "colab": {
          "base_uri": "https://localhost:8080/"
        },
        "id": "mTfdCkCnD0f1",
        "outputId": "fd6666dc-fb00-4ac4-e5d4-f866849b72fb"
      },
      "outputs": [
        {
          "name": "stdout",
          "output_type": "stream",
          "text": [
            "VaR_0,95 = 1624311.97\n"
          ]
        }
      ],
      "source": [
        "VaR_95 = round(np.quantile(x, 0.95), 3);\n",
        "print(f\"VaR_0,95 = {VaR_95}\");"
      ]
    },
    {
      "cell_type": "markdown",
      "metadata": {
        "id": "eZ8FVbVhD6j7"
      },
      "source": [
        "Величина, которую не превысит выплата по угону/ДТП без восстановления авто с вероятностью 95%, составляет 1624312 руб., т.е. страховщику необходимо резервировать средства в размере 1624312 руб. для того, чтобы покрыть среднестатистический убыток при наступлении страховых случаев (в данном случае - угона/ДТП без восстановления авто) и сформировать страховые резервы"
      ]
    },
    {
      "cell_type": "markdown",
      "metadata": {
        "id": "L8rSlibrEYGO"
      },
      "source": [
        "**ES (95%)**"
      ]
    },
    {
      "cell_type": "code",
      "execution_count": null,
      "metadata": {
        "colab": {
          "base_uri": "https://localhost:8080/"
        },
        "id": "ZMka2vW4EbEc",
        "outputId": "f0080655-10a3-45f7-d970-c51dd4ca22f5"
      },
      "outputs": [
        {
          "name": "stdout",
          "output_type": "stream",
          "text": [
            "CVaR_0,95 = 2050644.35\n"
          ]
        }
      ],
      "source": [
        "CVaR_95 = round(x[x > VaR_95].mean(), 3);\n",
        "print(f\"CVaR_0,95 = {CVaR_95}\");"
      ]
    },
    {
      "cell_type": "markdown",
      "metadata": {
        "id": "I1T9KkYeEf1Z"
      },
      "source": [
        "Величина возможного ожидаемого убытка страховщика из-за выплат по угону/ДТП без восстановления авто в 5% случаев может составлять в среднем 2050644,4 руб., т.е. страховщику необходимо резервировать средства в размере 2050644,4 руб. для покрытия случайных отклонений от среднестатистического убытка от наступления страховых случаев (угона/ДТП без восстановления авто) (включая сам среднестатистический убыток) и формирования страховых резервов"
      ]
    },
    {
      "cell_type": "markdown",
      "metadata": {
        "id": "wH_gPglEG98x"
      },
      "source": [
        "**Рисковая надбавка в случае угона/ДТП без восстановления авто**"
      ]
    },
    {
      "cell_type": "code",
      "execution_count": null,
      "metadata": {
        "colab": {
          "base_uri": "https://localhost:8080/"
        },
        "id": "LaxaLUOJHCuU",
        "outputId": "1d3801ec-0624-47fc-87c6-57e0ad110c2d"
      },
      "outputs": [
        {
          "name": "stdout",
          "output_type": "stream",
          "text": [
            "Величина рисковой надбавки в случае крупного ДТП составит 2050644.35 - 1624311.97 = 426332.38 руб.\n"
          ]
        }
      ],
      "source": [
        "print(f\"Величина рисковой надбавки в случае крупного ДТП составит {CVaR_95} - {VaR_95} = {round(CVaR_95 - VaR_95, 3)} руб.\")"
      ]
    },
    {
      "cell_type": "markdown",
      "metadata": {
        "id": "y1JwagAUh8HG"
      },
      "source": [
        "*Проверка гипотезы о зависимости величины, которую не превысит выплата по угону/ДТП без восстановления авто с вероятностью 95%, от пола:*"
      ]
    },
    {
      "cell_type": "code",
      "execution_count": null,
      "metadata": {
        "colab": {
          "base_uri": "https://localhost:8080/"
        },
        "id": "BrQCpM5Lh9E9",
        "outputId": "89ed977c-efe1-4565-dd8e-ae2c4dbbc226"
      },
      "outputs": [
        {
          "name": "stdout",
          "output_type": "stream",
          "text": [
            "МО жен = 648658.54\n",
            "МО муж = 291402.563\n"
          ]
        }
      ],
      "source": [
        "df_cut = df.drop(df[df['Угон, ДТП без востановления авто'] == 0].index);\n",
        "new_df = pd.DataFrame([df_cut['Пол'], df_cut['Выплата, руб.']]).T;\n",
        "\n",
        "mu_m = new_df['Выплата, руб.'][new_df['Пол'] == \"муж\"].mean();\n",
        "lmbd_m = 1 / mu_m;\n",
        "\n",
        "mu_w = new_df['Выплата, руб.'][new_df['Пол'] == \"жен\"].mean();\n",
        "lmbd_w = 1 / mu_w;\n",
        "\n",
        "print(f\"МО жен = {round(mu_w, 3)}\\nМО муж = {round(mu_m, 3)}\");"
      ]
    },
    {
      "cell_type": "code",
      "execution_count": null,
      "metadata": {
        "colab": {
          "base_uri": "https://localhost:8080/",
          "height": 470
        },
        "id": "hKQyfZdEiPYp",
        "outputId": "3dc6e13f-0cb9-4e3a-907a-c5e2b6a78d8c"
      },
      "outputs": [
        {
          "name": "stderr",
          "output_type": "stream",
          "text": [
            "/usr/local/lib/python3.7/dist-packages/ipykernel_launcher.py:4: DeprecationWarning: The default dtype for empty Series will be 'object' instead of 'float64' in a future version. Specify a dtype explicitly to silence this warning.\n",
            "  after removing the cwd from sys.path.\n"
          ]
        },
        {
          "data": {
            "text/html": [
              "<div>\n",
              "<style scoped>\n",
              "    .dataframe tbody tr th:only-of-type {\n",
              "        vertical-align: middle;\n",
              "    }\n",
              "\n",
              "    .dataframe tbody tr th {\n",
              "        vertical-align: top;\n",
              "    }\n",
              "\n",
              "    .dataframe thead th {\n",
              "        text-align: right;\n",
              "    }\n",
              "</style>\n",
              "<table border=\"1\" class=\"dataframe\">\n",
              "  <thead>\n",
              "    <tr style=\"text-align: right;\">\n",
              "      <th></th>\n",
              "      <th>жен</th>\n",
              "      <th>муж</th>\n",
              "      <th>жен &gt; муж</th>\n",
              "    </tr>\n",
              "  </thead>\n",
              "  <tbody>\n",
              "    <tr>\n",
              "      <th>0</th>\n",
              "      <td>56459.0278161</td>\n",
              "      <td>13982.9922556</td>\n",
              "      <td>1</td>\n",
              "    </tr>\n",
              "    <tr>\n",
              "      <th>1</th>\n",
              "      <td>774129.648815</td>\n",
              "      <td>70292.0253958</td>\n",
              "      <td>1</td>\n",
              "    </tr>\n",
              "    <tr>\n",
              "      <th>2</th>\n",
              "      <td>527796.316653</td>\n",
              "      <td>191228.820346</td>\n",
              "      <td>1</td>\n",
              "    </tr>\n",
              "    <tr>\n",
              "      <th>3</th>\n",
              "      <td>2041016.16665</td>\n",
              "      <td>462264.090255</td>\n",
              "      <td>1</td>\n",
              "    </tr>\n",
              "    <tr>\n",
              "      <th>4</th>\n",
              "      <td>26876.8443907</td>\n",
              "      <td>426148.028601</td>\n",
              "      <td>0</td>\n",
              "    </tr>\n",
              "    <tr>\n",
              "      <th>...</th>\n",
              "      <td>...</td>\n",
              "      <td>...</td>\n",
              "      <td>...</td>\n",
              "    </tr>\n",
              "    <tr>\n",
              "      <th>1995</th>\n",
              "      <td>1159981.28643</td>\n",
              "      <td>207760.392182</td>\n",
              "      <td>1</td>\n",
              "    </tr>\n",
              "    <tr>\n",
              "      <th>1996</th>\n",
              "      <td>213919.821177</td>\n",
              "      <td>62629.8860575</td>\n",
              "      <td>1</td>\n",
              "    </tr>\n",
              "    <tr>\n",
              "      <th>1997</th>\n",
              "      <td>783837.536553</td>\n",
              "      <td>381901.702392</td>\n",
              "      <td>1</td>\n",
              "    </tr>\n",
              "    <tr>\n",
              "      <th>1998</th>\n",
              "      <td>798431.951172</td>\n",
              "      <td>50955.6281653</td>\n",
              "      <td>1</td>\n",
              "    </tr>\n",
              "    <tr>\n",
              "      <th>1999</th>\n",
              "      <td>225015.20541</td>\n",
              "      <td>216971.100093</td>\n",
              "      <td>1</td>\n",
              "    </tr>\n",
              "  </tbody>\n",
              "</table>\n",
              "<p>2000 rows × 3 columns</p>\n",
              "</div>"
            ],
            "text/plain": [
              "               жен           муж  жен > муж\n",
              "0    56459.0278161 13982.9922556          1\n",
              "1    774129.648815 70292.0253958          1\n",
              "2    527796.316653 191228.820346          1\n",
              "3    2041016.16665 462264.090255          1\n",
              "4    26876.8443907 426148.028601          0\n",
              "...            ...           ...        ...\n",
              "1995 1159981.28643 207760.392182          1\n",
              "1996 213919.821177 62629.8860575          1\n",
              "1997 783837.536553 381901.702392          1\n",
              "1998 798431.951172 50955.6281653          1\n",
              "1999  225015.20541 216971.100093          1\n",
              "\n",
              "[2000 rows x 3 columns]"
            ]
          },
          "execution_count": 68,
          "metadata": {},
          "output_type": "execute_result"
        }
      ],
      "source": [
        "rand_nums = [rnd.expovariate(lambd = lmbd_w) for i in range(2000)];\n",
        "experiment_gender = pd.DataFrame(rand_nums, columns = ['жен']);\n",
        "experiment_gender['муж'] = [rnd.expovariate(lambd = lmbd_m) for i in range(2000)];\n",
        "experiment_gender['жен > муж'] = pd.Series();\n",
        "for i in range(2000):\n",
        "  experiment_gender['жен > муж'][i] = np.where(experiment_gender['жен'][i] > experiment_gender['муж'][i], 1, 0);\n",
        "experiment_gender"
      ]
    },
    {
      "cell_type": "code",
      "execution_count": null,
      "metadata": {
        "colab": {
          "base_uri": "https://localhost:8080/"
        },
        "id": "I17Zrr8OiZIa",
        "outputId": "35da89f4-95db-4128-ad9a-4d37de1639f1"
      },
      "outputs": [
        {
          "name": "stdout",
          "output_type": "stream",
          "text": [
            "Количество случаев для женщин: 1377\n",
            "Количество случаев для мужчин: 623\n"
          ]
        }
      ],
      "source": [
        "kol_w = experiment_gender['жен > муж'].sum();\n",
        "print(f\"Количество случаев для женщин: {int(kol_w)}\\nКоличество случаев для мужчин: {int(2000 - kol_w)}\");"
      ]
    },
    {
      "cell_type": "markdown",
      "metadata": {
        "id": "Ou-4n-olip4s"
      },
      "source": [
        "Если перезапускать два предыдущих блока кода по новой, будем получать новые наборы из двух тысяч экспоненциально распределенных чисел, однако конечный результат меняться не будет: соотношение случаев для женщин и мужчин всегда равно примерно 70/30. При угоне/ДТП без восстановления авто наиболее вероятен убыток в размере 1624311,97 руб., если данный страховой случай связан с лицом женского пола, т.е. при угоне/ДТП без восстановления авто наблюдается некоторая зависимость величины риска (убытка страховщика) от пола гражданина: риск больше для страховых случаев, связанных с лицами женского пола."
      ]
    },
    {
      "cell_type": "markdown",
      "metadata": {
        "id": "X4iJKva2uMly"
      },
      "source": [
        "Посчитаем соотношение кол-ва женщин и кол-ва мужчин, имеющих топ-5 автомобилей по частоте угона/ДТП без восстановления авто, с которыми произошел данный страховой случай."
      ]
    },
    {
      "cell_type": "code",
      "execution_count": null,
      "metadata": {
        "colab": {
          "base_uri": "https://localhost:8080/"
        },
        "id": "MsTuuggouWFg",
        "outputId": "3e73ba6f-fa14-422f-a5c0-2cde7ff22efc"
      },
      "outputs": [
        {
          "name": "stdout",
          "output_type": "stream",
          "text": [
            "Количество мужчин, владеющих топ-5 авто по угону/ДТП без восстановления авто: 26\n",
            "Количество женщин, владеющих топ-5 авто по угону/ДТП без восстановления авто: 8\n"
          ]
        }
      ],
      "source": [
        "auto_list = [\"KIA Rio\", \"Hyundai Solaris\", \"Lada Vesta\", \"Renault Sandero\", \"Lada X-Ray\"]\n",
        "s_w = np.count_nonzero(df[(df['Марка автомобиля'].isin(auto_list) == True) & (df['Пол'] == \"жен\") & (df['Угон, ДТП без востановления авто'] == 1)]['Пол']);\n",
        "s_m = np.count_nonzero(df[(df['Марка автомобиля'].isin(auto_list) == True) & (df['Пол'] == \"муж\") & (df['Угон, ДТП без востановления авто'] == 1)]['Пол']);\n",
        "\n",
        "print(f\"Количество мужчин, владеющих топ-5 авто по угону/ДТП без восстановления авто: {s_m}\\nКоличество женщин, владеющих топ-5 авто по угону/ДТП без восстановления авто: {s_w}\");"
      ]
    },
    {
      "cell_type": "markdown",
      "metadata": {
        "id": "ofmiFc6HxNuv"
      },
      "source": [
        "Величина риска при угоне/ДТП без восстановления авто зависит от пола гражданина, но не обусловлена тем, что женщины владеют бОльшим числом автомобилей из топ-5 по угону/ДТП без восстановления авто, чем мужчины."
      ]
    },
    {
      "cell_type": "markdown",
      "metadata": {
        "id": "eNxy1lq1zz3T"
      },
      "source": [
        "Проверим влияние стажа вождения на данное соотношение."
      ]
    },
    {
      "cell_type": "code",
      "execution_count": null,
      "metadata": {
        "colab": {
          "base_uri": "https://localhost:8080/"
        },
        "id": "X2yJn88Dz4iD",
        "outputId": "acddfbcd-15d0-4427-cf53-7832f7b4bce4"
      },
      "outputs": [
        {
          "name": "stdout",
          "output_type": "stream",
          "text": [
            "Для мужчин, у которых угоняли авто/попадавших в ДТП без восстановления авто, средний стаж: 21\n",
            "Для женщин, у которых угоняли авто/попадавших в ДТП без восстановления авто, средний стаж: 25\n"
          ]
        }
      ],
      "source": [
        "s_w = np.mean(df[(df['Угон, ДТП без востановления авто'] == 1) & (df['Пол'] == \"жен\")]['Стаж вождения']);\n",
        "s_m = np.mean(df[(df['Угон, ДТП без востановления авто'] == 1) & (df['Пол'] == \"муж\")]['Стаж вождения']);\n",
        "\n",
        "print(f\"Для мужчин, у которых угоняли авто/попадавших в ДТП без восстановления авто, средний стаж: {int(s_m)}\\nДля женщин, у которых угоняли авто/попадавших в ДТП без восстановления авто, средний стаж: {int(s_w)}\");"
      ]
    },
    {
      "cell_type": "markdown",
      "metadata": {
        "id": "rufcT4UY2n6_"
      },
      "source": [
        "Величина риска при угоне/ДТП без восстановления авто зависит от пола гражданина, но не обусловлена тем, что женщины имели меньший стаж вождения, чем мужчины."
      ]
    },
    {
      "cell_type": "markdown",
      "metadata": {
        "id": "Yoe7CXCt36Y-"
      },
      "source": [
        "Тип страхования на данное соотношение не влияет, поскольку в случае угона/ДТП без восстановления авто доступен только полный тип страхования. Для проверки соотношения не хватает данных."
      ]
    },
    {
      "cell_type": "markdown",
      "metadata": {
        "id": "tzfQccqpfLIr"
      },
      "source": [
        "*Проверка гипотезы о зависимости величины, которую не превысит выплата по угону/ДТП без восстановления авто с вероятностью 95%, от типа страхования (частичное/полное):*"
      ]
    },
    {
      "cell_type": "code",
      "execution_count": null,
      "metadata": {
        "colab": {
          "base_uri": "https://localhost:8080/"
        },
        "id": "IZfBchJPfO-3",
        "outputId": "a601aa18-d39b-40df-ed08-0b7deb966266"
      },
      "outputs": [
        {
          "name": "stdout",
          "output_type": "stream",
          "text": [
            "МО частичное = 0.0\n",
            "МО полное = 1555175.712\n"
          ]
        },
        {
          "name": "stderr",
          "output_type": "stream",
          "text": [
            "/usr/local/lib/python3.7/dist-packages/ipykernel_launcher.py:5: RuntimeWarning: divide by zero encountered in double_scalars\n",
            "  \"\"\"\n"
          ]
        }
      ],
      "source": [
        "df_cut = df.drop(df[df['Угон, ДТП без востановления авто'] == 0].index);\n",
        "new_df = pd.DataFrame([df_cut['Тип страхования'], df_cut['Выплата, руб.']]).T;\n",
        "\n",
        "mu_ps = new_df['Выплата, руб.'][new_df['Тип страхования'] == \"частичное\"].mean();\n",
        "lmbd_ps = 1 / mu_ps; # деление на 0\n",
        "\n",
        "mu_fs = new_df['Выплата, руб.'][new_df['Тип страхования'] == \"полное\"].mean();\n",
        "lmbd_fs = 1 / mu_fs;\n",
        "\n",
        "print(f\"МО частичное = {round(mu_ps, 3)}\\nМО полное = {round(mu_fs, 3)}\");"
      ]
    },
    {
      "cell_type": "markdown",
      "metadata": {
        "id": "51hDfpsVgJb0"
      },
      "source": [
        "МО для выплат по частичному типу страхования равно 0, что говорит о том, что частичное страхование не используется для случаев угона/ДТП без восстановления авто. Дальнейшие действия проводить бессмысленно. Соотношение случаев для частичного типа страхования и полного типа страхования всегда будет 0/100"
      ]
    }
  ],
  "metadata": {
    "colab": {
      "collapsed_sections": [],
      "name": "strakhovanie_tr.ipynb",
      "provenance": []
    },
    "interpreter": {
      "hash": "324e240ea573fd3d8056e12ea70d483238364e9b42112e18bb174b35d8d396b2"
    },
    "kernelspec": {
      "display_name": "Python 3.9.7 64-bit",
      "name": "python3"
    },
    "language_info": {
      "name": "python",
      "version": "3.9.7"
    }
  },
  "nbformat": 4,
  "nbformat_minor": 0
}
